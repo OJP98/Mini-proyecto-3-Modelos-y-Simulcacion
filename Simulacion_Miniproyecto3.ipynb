{
  "nbformat": 4,
  "nbformat_minor": 0,
  "metadata": {
    "colab": {
      "name": "Simulacion-Miniproyecto3",
      "provenance": [],
      "collapsed_sections": [
        "ljF-PN-5g6PM",
        "CFsZcgkvhcwQ",
        "K8P3NdR_E_A9",
        "FVzIboAD8kYt"
      ],
      "toc_visible": true
    },
    "kernelspec": {
      "name": "python3",
      "display_name": "Python 3"
    }
  },
  "cells": [
    {
      "cell_type": "markdown",
      "metadata": {
        "id": "oKc-NvwCgdwN"
      },
      "source": [
        "# Miniproyecto #3\n",
        "\n",
        "Modelos y Simulación - Sección 10\n",
        "\n",
        "Fecha: 28-09-2020\n",
        "\n",
        "## Integrantes:\n",
        "* Oscar Juárez - 17315\n",
        "* José Cifuentes - 17509"
      ]
    },
    {
      "cell_type": "markdown",
      "metadata": {
        "id": "ljF-PN-5g6PM"
      },
      "source": [
        "## Importación de librerías\n"
      ]
    },
    {
      "cell_type": "code",
      "metadata": {
        "id": "woXQkNmhgMaa"
      },
      "source": [
        "import random\n",
        "import math\n",
        "from pprint import pprint"
      ],
      "execution_count": 1,
      "outputs": []
    },
    {
      "cell_type": "markdown",
      "metadata": {
        "id": "CFsZcgkvhcwQ"
      },
      "source": [
        "## Funciones útiles"
      ]
    },
    {
      "cell_type": "code",
      "metadata": {
        "id": "AAD7C6AahfwT"
      },
      "source": [
        "def GenerarNuevoTiempo(instante, LambdaPoisson):\n",
        "    return instante + exponencial(LambdaPoisson)\n",
        "\n",
        "def exponencial(Lambda):\n",
        "    U = random.random()\n",
        "    return -(1/Lambda)*math.log(U)\n",
        "\n",
        "def TiempoEntreArreglos(llegadas, salidas):\n",
        "    suma = 0\n",
        "    for i in range(len(llegadas)):\n",
        "        suma += salidas[i]-llegadas[i]\n",
        "    return suma\n",
        "\n",
        "def TiempoServidorIdle(llegadas, salidas):\n",
        "    suma = 0\n",
        "    for i in range(len(llegadas)-1):\n",
        "        suma += llegadas[i+1]-salidas[i]\n",
        "    return suma + (0-llegadas[0])\n",
        "\n",
        "def ServersAreIdle(SS):\n",
        "    return True if sum(SS[1:]) == 0 else False\n",
        "\n",
        "def GetNextIdle(SS):\n",
        "    SS = SS[1:]\n",
        "    try:\n",
        "        return SS.index(0)+1\n",
        "    except:\n",
        "        return -1\n",
        "\n",
        "def GetMinT(serverList):\n",
        "    reqs = [i['t'] for i in serverList]\n",
        "    minT = min(reqs)\n",
        "    return minT, reqs.index(minT)\n"
      ],
      "execution_count": 2,
      "outputs": []
    },
    {
      "cell_type": "markdown",
      "metadata": {
        "id": "wrsfHoHf8cMo"
      },
      "source": [
        "## Task 1"
      ]
    },
    {
      "cell_type": "markdown",
      "metadata": {
        "id": "1njnYlY5hBlP"
      },
      "source": [
        "### Gorilla Megacomputing\n",
        "\n",
        "Algoritmo para un solo servidor\n"
      ]
    },
    {
      "cell_type": "code",
      "metadata": {
        "id": "R9KphHNjhDu4"
      },
      "source": [
        "def simularServer(LambdaExponencial,LambdaPoisson,T):\n",
        "  # DEFINICIÓN DE VARIABLES \n",
        "  llegadas = []\n",
        "  salidas = []\n",
        "\n",
        "  llegadasCola = []\n",
        "  salidasCola = []\n",
        "  cola=[]\n",
        "\n",
        "  #Lambda = num. eventos/ num. unidades\n",
        "  #LambdaPoisson = 2400 / 60\n",
        "  #LambdaExponencial = 100\n",
        "  t, Na, Nd, n = 0, 0, 0, 0\n",
        "  #T = 10\n",
        "\n",
        "  T0 = GenerarNuevoTiempo(0, LambdaPoisson)\n",
        "  ta = T0\n",
        "  td = math.inf\n",
        "\n",
        "  # Inicio del ciclo while\n",
        "  while True:\n",
        "    cola.append(n)  \n",
        "    # CASO 1\n",
        "    if ta <= td and ta <= T:\n",
        "      t = ta\n",
        "      Na += 1\n",
        "      n += 1\n",
        "      \n",
        "      ta = GenerarNuevoTiempo(t, LambdaPoisson)\n",
        "      \n",
        "      if n == 1:\n",
        "        Y = exponencial(LambdaExponencial)\n",
        "        Ytemp=Y\n",
        "        td = t + Y\n",
        "      else:\n",
        "        #sabemos que va para cola\n",
        "        llegadasCola.append(t)\n",
        "      llegadas.append(t)\n",
        "    \n",
        "    # CASO 2\n",
        "    elif td < ta and td <= T:\n",
        "      t = td\n",
        "      n -= 1\n",
        "      Nd += 1\n",
        "      \n",
        "      if n == 0:\n",
        "        td = math.inf\n",
        "      else:\n",
        "        Y = exponencial(LambdaExponencial)\n",
        "        td = t + Y\n",
        "        salidasCola.append(t)\n",
        "      \n",
        "      salidas.append(t)\n",
        "          \n",
        "    # CASO 3\n",
        "    elif min(ta, td) > T and n > 0:\n",
        "      t = td\n",
        "      n -= 1\n",
        "      Nd += 1\n",
        "      \n",
        "      if n > 0:\n",
        "        Y = exponencial(LambdaExponencial)\n",
        "        td = t + Y\n",
        "        salidasCola.append(t)\n",
        "      salidas.append(t)\n",
        "\n",
        "    # CASO 4\n",
        "    elif min(ta, td) > T and n == 0:\n",
        "      Tp = max(t - T, 0)\n",
        "      return llegadas, salidas, llegadasCola, salidasCola, cola, Tp\n",
        "      break"
      ],
      "execution_count": 3,
      "outputs": []
    },
    {
      "cell_type": "code",
      "metadata": {
        "id": "NE-yTv4jkuaq"
      },
      "source": [
        "T=3600\n",
        "llegadas, salidas, llegadasCola, salidasCola, cola,Tp=simularServer(LambdaExponencial=100,LambdaPoisson=2400 / 60,T=3600)\n",
        "#print(cola)\n",
        "#print(llegadasCola)\n",
        "#print(salidasCola)"
      ],
      "execution_count": 4,
      "outputs": []
    },
    {
      "cell_type": "markdown",
      "metadata": {
        "id": "CCwpuFtLhtfH"
      },
      "source": [
        "#### Impresión de salidas\n"
      ]
    },
    {
      "cell_type": "code",
      "metadata": {
        "id": "2ItL1Ac6hwPa",
        "outputId": "1707efcf-64ba-4014-e62a-67e50299ad7a",
        "colab": {
          "base_uri": "https://localhost:8080/",
          "height": 119
        }
      },
      "source": [
        "# Print de resultados finales\n",
        "print('LOS RESULTADOS FINALES SON:\\n\\n')\n",
        "print(f'LARGO LLEGADAS: {len(llegadas)} \\nLARGO SALIDAS: {len(salidas)} \\nLargo de cola: {len(cola)}')"
      ],
      "execution_count": 5,
      "outputs": [
        {
          "output_type": "stream",
          "text": [
            "LOS RESULTADOS FINALES SON:\n",
            "\n",
            "\n",
            "LARGO LLEGADAS: 143757 \n",
            "LARGO SALIDAS: 143757 \n",
            "Largo de cola: 287515\n"
          ],
          "name": "stdout"
        }
      ]
    },
    {
      "cell_type": "markdown",
      "metadata": {
        "id": "bq1DUQN0RrE2"
      },
      "source": [
        "#### Resultados proveedor 1\n",
        "\n",
        "1. ¿Cuántas solicitudes atendió cada servidor?"
      ]
    },
    {
      "cell_type": "code",
      "metadata": {
        "id": "0lEB-EjvUyGT",
        "outputId": "854d9847-b025-4814-c0f3-423d58e460a7",
        "colab": {
          "base_uri": "https://localhost:8080/",
          "height": 34
        }
      },
      "source": [
        "# Se imprime el largo del arreglo de solicitudes que atendió el servidor\n",
        "print(f'{len(llegadas)} solicitudes en total')"
      ],
      "execution_count": 6,
      "outputs": [
        {
          "output_type": "stream",
          "text": [
            "143757 solicitudes en total\n"
          ],
          "name": "stdout"
        }
      ]
    },
    {
      "cell_type": "markdown",
      "metadata": {
        "id": "gsnIx0saVIK0"
      },
      "source": [
        "2. ¿Cuánto tiempo estuvo el servidor ocupado?"
      ]
    },
    {
      "cell_type": "code",
      "metadata": {
        "id": "VWrk5cb2VMaZ",
        "outputId": "b2e9546a-c5b9-4d66-96fd-e3f3bcd27dc2",
        "colab": {
          "base_uri": "https://localhost:8080/",
          "height": 34
        }
      },
      "source": [
        "# Obtenemos una sumatoria de las diferencias entre cada instante que el servidor\n",
        "# atendió y terminó una solicitud.\n",
        "print(f'{TiempoEntreArreglos(llegadas, salidas)} segundos')"
      ],
      "execution_count": 7,
      "outputs": [
        {
          "output_type": "stream",
          "text": [
            "2391.0953281248335 segundos\n"
          ],
          "name": "stdout"
        }
      ]
    },
    {
      "cell_type": "markdown",
      "metadata": {
        "id": "6HJVD2ISWJpg"
      },
      "source": [
        "3. ¿Cuánto tiempo estuvo el servidor desocupado (idle)?"
      ]
    },
    {
      "cell_type": "code",
      "metadata": {
        "id": "QuveMh80WNmp",
        "outputId": "015d86ee-12a4-4117-880e-7d0ed18f4919",
        "colab": {
          "base_uri": "https://localhost:8080/",
          "height": 34
        }
      },
      "source": [
        "# Hacemos una sumatoria de la diferencia entre instantes cuando el servidor\n",
        "# terminó una solicitud y entró otra.\n",
        "print(f'{TiempoServidorIdle(llegadas, salidas)} segundos')"
      ],
      "execution_count": 8,
      "outputs": [
        {
          "output_type": "stream",
          "text": [
            "1208.8407218974305 segundos\n"
          ],
          "name": "stdout"
        }
      ]
    },
    {
      "cell_type": "markdown",
      "metadata": {
        "id": "t7GOudP4W8AE"
      },
      "source": [
        "4. ¿Cuánto\ttiempo\ten\ttotal\testuvieron\tlas\tsolicitudes en\tcola?"
      ]
    },
    {
      "cell_type": "code",
      "metadata": {
        "id": "hZU9hV7PXAwM",
        "outputId": "670d921d-71ef-4cd1-f9fa-9c43f3ae1971",
        "colab": {
          "base_uri": "https://localhost:8080/",
          "height": 34
        }
      },
      "source": [
        "tiempoTotalCola = TiempoEntreArreglos(llegadasCola, salidasCola)\n",
        "print(f'{tiempoTotalCola} segundos')"
      ],
      "execution_count": 9,
      "outputs": [
        {
          "output_type": "stream",
          "text": [
            "950.4012304701087 segundos\n"
          ],
          "name": "stdout"
        }
      ]
    },
    {
      "cell_type": "markdown",
      "metadata": {
        "id": "aOTiKyoLXtfJ"
      },
      "source": [
        "5. En promedio ¿cuánto tiempo estuvo cada solicitud en cola?"
      ]
    },
    {
      "cell_type": "code",
      "metadata": {
        "id": "NeIqBb9uXw9q",
        "outputId": "571ba8ef-6bea-430a-f74c-afbe3baaa88a",
        "colab": {
          "base_uri": "https://localhost:8080/",
          "height": 34
        }
      },
      "source": [
        "promedioCola = tiempoTotalCola/len(llegadas)\n",
        "print(f'{promedioCola} segundos')"
      ],
      "execution_count": 10,
      "outputs": [
        {
          "output_type": "stream",
          "text": [
            "0.006611164885675888 segundos\n"
          ],
          "name": "stdout"
        }
      ]
    },
    {
      "cell_type": "markdown",
      "metadata": {
        "id": "ja7hSSZLY0ZM"
      },
      "source": [
        "6. En promedio, ¿cuántas solicitudes estuvieron en cola cada segundo?"
      ]
    },
    {
      "cell_type": "code",
      "metadata": {
        "id": "wjUrEICVY4YH",
        "outputId": "d181b040-a474-4c64-8e96-d89cea12ab6a",
        "colab": {
          "base_uri": "https://localhost:8080/",
          "height": 34
        }
      },
      "source": [
        "llegadasPorSegundo={}\n",
        "\n",
        "for i in range(int(max(llegadasCola))+1):\n",
        "  llegadasPorSegundo[i]=0\n",
        "\n",
        "for i in llegadasCola:\n",
        "  llegadasPorSegundo[int(i)]+=1\n",
        "\n",
        "suma=sum(llegadasPorSegundo.values())\n",
        "cantTotal=len(llegadasPorSegundo.values())\n",
        "\n",
        "print(f'En promedio, {int(suma/cantTotal)} solicitudes en cola cada segundo')"
      ],
      "execution_count": 11,
      "outputs": [
        {
          "output_type": "stream",
          "text": [
            "En promedio, 15 solicitudes en cola cada segundo\n"
          ],
          "name": "stdout"
        }
      ]
    },
    {
      "cell_type": "markdown",
      "metadata": {
        "id": "sarZBQRqY84B"
      },
      "source": [
        "7. ¿Cuál es el momento de la salida de la última solicitud?"
      ]
    },
    {
      "cell_type": "code",
      "metadata": {
        "id": "uBxwx-JDZAdM",
        "outputId": "1704ba05-0101-46e4-fdee-fcb108223d7d",
        "colab": {
          "base_uri": "https://localhost:8080/",
          "height": 34
        }
      },
      "source": [
        "print(T+Tp)"
      ],
      "execution_count": 12,
      "outputs": [
        {
          "output_type": "stream",
          "text": [
            "3600.0238133982443\n"
          ],
          "name": "stdout"
        }
      ]
    },
    {
      "cell_type": "markdown",
      "metadata": {
        "id": "lLyeAU0JZGBI"
      },
      "source": [
        "### Ant Smart Computing"
      ]
    },
    {
      "cell_type": "markdown",
      "metadata": {
        "id": "K8P3NdR_E_A9"
      },
      "source": [
        "#### Algoritmo para servidores dinámicos"
      ]
    },
    {
      "cell_type": "code",
      "metadata": {
        "id": "NmjmX4kiFCIt"
      },
      "source": [
        "def simularServerParalelo(cantServers,LambdaExponencial,LambdaPoisson,T):\n",
        "  # ------------ Inicializacion ------------\n",
        "  #Lambda = num. eventos/ num. unidades\n",
        "\n",
        "  # CAMBIAR CANT. DE SERVERS\n",
        "  #cantServers = 4\n",
        "\n",
        "  servers = [{\n",
        "      'llegadas': {},\n",
        "      'salidas': {},\n",
        "      't': math.inf\n",
        "  } for i in range(cantServers)]\n",
        "\n",
        "  #LambdaPoisson = 2400 / 60\n",
        "  #LambdaExponencial = 100\n",
        "  t, Na,Nd = 0,0,0\n",
        "  SS = [0 for i in range(cantServers + 1)]\n",
        "  tA = GenerarNuevoTiempo(0, LambdaPoisson)\n",
        "  #T = 0.1\n",
        "\n",
        "  cola = {}\n",
        "\n",
        "  while True:\n",
        "      # CASO 1\n",
        "\n",
        "      # Obtenemos el t más pequeño de entre todos los serivdores\n",
        "      minT, indexMinT = GetMinT(servers)\n",
        "\n",
        "      # nuevo ingreso en tiempo tA\n",
        "      if (tA == min(tA, minT) and tA < T):\n",
        "          # print('CASO1')\n",
        "          t = tA\n",
        "          Na += 1\n",
        "          tA = GenerarNuevoTiempo(t, LambdaPoisson)\n",
        "          # Obtenemos el próximo servidor que está idle (0)\n",
        "          idleServer = GetNextIdle(SS)\n",
        "\n",
        "          if (SS[0] == 0 and ServersAreIdle(SS)):\n",
        "\n",
        "              SS[1] = Na\n",
        "              SS[0] = 1\n",
        "\n",
        "              # todo libre\n",
        "              servers[0]['llegadas'][Na] = t\n",
        "              servers[0]['t'] = t + exponencial(LambdaExponencial)\n",
        "\n",
        "          elif (SS[0] > 0 and idleServer != -1):\n",
        "              # un cliente y servidor 2 libre\n",
        "              SS[idleServer] = Na\n",
        "              SS[0] = SS[0]+1\n",
        "\n",
        "              # En el servidor correspondiente, marcamos el instante de llegada y el t\n",
        "              servers[idleServer-1]['llegadas'][Na] = t\n",
        "              servers[idleServer-1]['t'] = t + exponencial(LambdaExponencial)\n",
        "\n",
        "          elif SS[0] > len(servers)-1:\n",
        "              cola[Na] = [t, None]\n",
        "              SS[0] = SS[0] + 1\n",
        "\n",
        "          continue\n",
        "\n",
        "      elif minT < tA:\n",
        "          t = servers[indexMinT]['t']\n",
        "\n",
        "          # Obtenemos el id de la solicitud terminada\n",
        "          # Se suma 1 a indexMintT porque estamos en SS (en donde la primera posición es\n",
        "          # la cantidad de solicitudes en el sistema)\n",
        "          solicitudActual = SS[indexMinT + 1]\n",
        "\n",
        "          # Actualizamos la salida de la solicitud correspondiente\n",
        "          servers[indexMinT]['salidas'][solicitudActual] = t\n",
        "\n",
        "          if 0 < SS[0] <= cantServers:\n",
        "              SS[0] = SS[0]-1\n",
        "              SS[indexMinT+1] = 0\n",
        "              servers[indexMinT]['t'] = math.inf\n",
        "\n",
        "          elif SS[0] > cantServers:\n",
        "              sigSolicitud = max(SS[1:]) + 1\n",
        "\n",
        "              SS[indexMinT+1] = sigSolicitud\n",
        "              SS[0] = SS[0] - 1\n",
        "\n",
        "              cola[sigSolicitud][1] = indexMinT+1\n",
        "              servers[indexMinT]['llegadas'][sigSolicitud] = t\n",
        "\n",
        "              servers[indexMinT]['t'] = t + exponencial(LambdaExponencial)\n",
        "\n",
        "          continue\n",
        "\n",
        "      elif SS[0] > 0:\n",
        "\n",
        "        t = servers[indexMinT]['t']\n",
        "        solicitudActual = SS[indexMinT + 1]\n",
        "\n",
        "        # Actualizamos la salida de la solicitud correspondiente\n",
        "        servers[indexMinT]['salidas'][solicitudActual] = t + \\\n",
        "          exponencial(LambdaExponencial)\n",
        "        servers[indexMinT]['t'] = math.inf\n",
        "        # Actualizamos cantidad de solicitudes en el sistema\n",
        "        SS[0] = SS[0] - 1\n",
        "\n",
        "        continue\n",
        "\n",
        "\n",
        "      # pprint(servers)\n",
        "      # print('\\nCOLA:')\n",
        "      # pprint(cola)\n",
        "      #print('Tiempo extra '+str(max(t-T, 0)))\n",
        "      #print('\\nUltimo instante '+str(t))\n",
        "      #print('SS='+str(SS))\n",
        "      return servers, cola, t\n",
        "      break\n"
      ],
      "execution_count": 13,
      "outputs": []
    },
    {
      "cell_type": "code",
      "metadata": {
        "id": "r4VIeGcnqP8e"
      },
      "source": [
        "registroServers, registroCola, ultimoInstante=simularServerParalelo(cantServers=10,LambdaExponencial=10,LambdaPoisson=2400 / 60,T=3600)"
      ],
      "execution_count": 14,
      "outputs": []
    },
    {
      "cell_type": "markdown",
      "metadata": {
        "id": "G3d9Ngp3q9sy"
      },
      "source": [
        "#### Resultados proveedor 2\n",
        "\n",
        "1. ¿Cuántas solicitudes atendió cada servidor?"
      ]
    },
    {
      "cell_type": "code",
      "metadata": {
        "id": "BitX6Bu_q9sz",
        "outputId": "0cb7178d-ae10-416e-c270-35bde4fb4bda",
        "colab": {
          "base_uri": "https://localhost:8080/",
          "height": 187
        }
      },
      "source": [
        "# Se imprime el largo del arreglo de solicitudes que atendió el servidor\n",
        "for i in range(len(registroServers)):\n",
        "  total=len(registroServers[i]['llegadas'])\n",
        "  print(f'Servidor {i} atendio un total de {total} solicitudes')"
      ],
      "execution_count": 15,
      "outputs": [
        {
          "output_type": "stream",
          "text": [
            "Servidor 0 atendio un total de 29042 solicitudes\n",
            "Servidor 1 atendio un total de 26762 solicitudes\n",
            "Servidor 2 atendio un total de 23683 solicitudes\n",
            "Servidor 3 atendio un total de 20259 solicitudes\n",
            "Servidor 4 atendio un total de 16047 solicitudes\n",
            "Servidor 5 atendio un total de 11899 solicitudes\n",
            "Servidor 6 atendio un total de 7924 solicitudes\n",
            "Servidor 7 atendio un total de 4728 solicitudes\n",
            "Servidor 8 atendio un total de 2505 solicitudes\n",
            "Servidor 9 atendio un total de 1260 solicitudes\n"
          ],
          "name": "stdout"
        }
      ]
    },
    {
      "cell_type": "markdown",
      "metadata": {
        "id": "QzVgdOTWq9s3"
      },
      "source": [
        "2. ¿Cuánto tiempo estuvo el servidor ocupado?"
      ]
    },
    {
      "cell_type": "code",
      "metadata": {
        "id": "RRdaOcFVq9s4",
        "outputId": "b94b2d04-5d5f-4642-e32a-f2a601350c59",
        "colab": {
          "base_uri": "https://localhost:8080/",
          "height": 187
        }
      },
      "source": [
        "# Obtenemos una sumatoria de las diferencias entre cada instante que el servidor\n",
        "# atendió y terminó una solicitud.\n",
        "\n",
        "for i in range(len(registroServers)):\n",
        "  try:\n",
        "    llegadasDict=registroServers[i]['llegadas']\n",
        "    salidasDict=registroServers[i]['salidas']\n",
        "    llegadasList=[]\n",
        "    salidasList=[]\n",
        "    for id in registroServers[0]['llegadas'].keys():\n",
        "      llegadasList.append(llegadasDict[id])\n",
        "      salidasList.append(salidasDict[id])\n",
        "    \n",
        "    print(f'Servidor {i} estuvo ocupado {TiempoEntreArreglos(llegadasList, salidasList)} segundos')\n",
        "  except:\n",
        "    print(f'Servidor {i} estuvo ocupado 0 segundos')\n",
        "    \n",
        "#print(f'{TiempoEntreArreglos(llegadas, salidas)} segundos')"
      ],
      "execution_count": 16,
      "outputs": [
        {
          "output_type": "stream",
          "text": [
            "Servidor 0 estuvo ocupado 2877.7804120272276 segundos\n",
            "Servidor 1 estuvo ocupado 0 segundos\n",
            "Servidor 2 estuvo ocupado 0 segundos\n",
            "Servidor 3 estuvo ocupado 0 segundos\n",
            "Servidor 4 estuvo ocupado 0 segundos\n",
            "Servidor 5 estuvo ocupado 0 segundos\n",
            "Servidor 6 estuvo ocupado 0 segundos\n",
            "Servidor 7 estuvo ocupado 0 segundos\n",
            "Servidor 8 estuvo ocupado 0 segundos\n",
            "Servidor 9 estuvo ocupado 0 segundos\n"
          ],
          "name": "stdout"
        }
      ]
    },
    {
      "cell_type": "markdown",
      "metadata": {
        "id": "QEcNUFJ5q9s6"
      },
      "source": [
        "3. ¿Cuánto tiempo estuvo el servidor desocupado (idle)?"
      ]
    },
    {
      "cell_type": "code",
      "metadata": {
        "id": "DaQa1_-iq9s7",
        "outputId": "c855eadc-664e-4693-c3c1-f9ad96374abe",
        "colab": {
          "base_uri": "https://localhost:8080/",
          "height": 187
        }
      },
      "source": [
        "# Hacemos una sumatoria de la diferencia entre instantes cuando el servidor\n",
        "# terminó una solicitud y entró otra.\n",
        "for i in range(len(registroServers)):\n",
        "  try:\n",
        "    llegadasDict=registroServers[i]['llegadas']\n",
        "    salidasDict=registroServers[i]['salidas']\n",
        "    llegadasList=[]\n",
        "    salidasList=[]\n",
        "    for id in registroServers[0]['llegadas'].keys():\n",
        "      llegadasList.append(llegadasDict[id])\n",
        "      salidasList.append(salidasDict[id])\n",
        "    \n",
        "    print(f'Servidor {i} estuvo desocupado {TiempoServidorIdle(llegadasList, salidasList)} segundos')\n",
        "  except:\n",
        "    print(f'Servidor {i} estuvo desocupado todo el tiempo')\n",
        "#print(f'{TiempoServidorIdle(llegadas, salidas)} segundos')"
      ],
      "execution_count": 17,
      "outputs": [
        {
          "output_type": "stream",
          "text": [
            "Servidor 0 estuvo desocupado 722.2515803523368 segundos\n",
            "Servidor 1 estuvo desocupado todo el tiempo\n",
            "Servidor 2 estuvo desocupado todo el tiempo\n",
            "Servidor 3 estuvo desocupado todo el tiempo\n",
            "Servidor 4 estuvo desocupado todo el tiempo\n",
            "Servidor 5 estuvo desocupado todo el tiempo\n",
            "Servidor 6 estuvo desocupado todo el tiempo\n",
            "Servidor 7 estuvo desocupado todo el tiempo\n",
            "Servidor 8 estuvo desocupado todo el tiempo\n",
            "Servidor 9 estuvo desocupado todo el tiempo\n"
          ],
          "name": "stdout"
        }
      ]
    },
    {
      "cell_type": "markdown",
      "metadata": {
        "id": "F70RJ8R4q9s9"
      },
      "source": [
        "4. ¿Cuánto\ttiempo\ten\ttotal\testuvieron\tlas\tsolicitudes en\tcola?"
      ]
    },
    {
      "cell_type": "code",
      "metadata": {
        "id": "gyyG287kq9s9",
        "outputId": "b4339923-f963-403c-ebba-005adf4b40c2",
        "colab": {
          "base_uri": "https://localhost:8080/",
          "height": 34
        }
      },
      "source": [
        "if (len(registroCola)>0):\n",
        "  llegadasCola=[]\n",
        "  salidasCola=[]\n",
        "  for i in registroCola.keys():\n",
        "    llegadasCola.append(registroCola[i][0])\n",
        "    idServidor=registroCola[i][1]\n",
        "    idProceso=i\n",
        "    salidasCola.append(registroServers[idServidor-1]['llegadas'][idProceso])\n",
        "  tiempoTotalCola = TiempoEntreArreglos(llegadasCola, salidasCola)\n",
        "  print(f'{tiempoTotalCola} segundos')\n",
        "else:\n",
        "  print('No hay cola')\n"
      ],
      "execution_count": 18,
      "outputs": [
        {
          "output_type": "stream",
          "text": [
            "20.19867348360672 segundos\n"
          ],
          "name": "stdout"
        }
      ]
    },
    {
      "cell_type": "markdown",
      "metadata": {
        "id": "Gp_pJVBWq9tA"
      },
      "source": [
        "5. En promedio ¿cuánto tiempo estuvo cada solicitud en cola?"
      ]
    },
    {
      "cell_type": "code",
      "metadata": {
        "id": "5016XiT7q9tA",
        "outputId": "25d6db4d-feee-41f0-b3c8-5ee0134772b1",
        "colab": {
          "base_uri": "https://localhost:8080/",
          "height": 34
        }
      },
      "source": [
        "idSolicitudes=[]\n",
        "for i in registroServers:\n",
        "  idSolicitudes+=i['llegadas'].keys()\n",
        "promedioCola = tiempoTotalCola/max(idSolicitudes)\n",
        "print(f'{promedioCola} segundos')"
      ],
      "execution_count": 19,
      "outputs": [
        {
          "output_type": "stream",
          "text": [
            "0.00014016247065489816 segundos\n"
          ],
          "name": "stdout"
        }
      ]
    },
    {
      "cell_type": "markdown",
      "metadata": {
        "id": "zmomHc-Bq9tC"
      },
      "source": [
        "6. En promedio, ¿cuántas solicitudes estuvieron en cola cada segundo?"
      ]
    },
    {
      "cell_type": "code",
      "metadata": {
        "id": "qkwzrXwRq9tD",
        "outputId": "4af7fc9b-4ede-4962-bc20-eddccb7e3a98",
        "colab": {
          "base_uri": "https://localhost:8080/",
          "height": 34
        }
      },
      "source": [
        "instantesDeIngresoCola=[]\n",
        "for i in registroCola.values():\n",
        "  instantesDeIngresoCola.append(i[0])\n",
        "\n",
        "\n",
        "llegadasPorSegundo={}\n",
        "\n",
        "for i in range(int(max(instantesDeIngresoCola))+1):\n",
        "  llegadasPorSegundo[i]=0\n",
        "\n",
        "\n",
        "\n",
        "for i in instantesDeIngresoCola:\n",
        "  llegadasPorSegundo[int(i)]+=1\n",
        "\n",
        "\n",
        "suma=sum(llegadasPorSegundo.values())\n",
        "cantTotal=len(llegadasPorSegundo.values())\n",
        "\n",
        "print(f'En promedio, {int(suma/cantTotal)} solicitudes en cola cada segundo')\n"
      ],
      "execution_count": 20,
      "outputs": [
        {
          "output_type": "stream",
          "text": [
            "En promedio, 0 solicitudes en cola cada segundo\n"
          ],
          "name": "stdout"
        }
      ]
    },
    {
      "cell_type": "markdown",
      "metadata": {
        "id": "WkGoShCJq9tF"
      },
      "source": [
        "7. ¿Cuál es el momento de la salida de la última solicitud?"
      ]
    },
    {
      "cell_type": "code",
      "metadata": {
        "id": "7jHTFoJkq9tG",
        "outputId": "e3dce619-1925-4070-f044-5042019b374f",
        "colab": {
          "base_uri": "https://localhost:8080/",
          "height": 34
        }
      },
      "source": [
        "print(ultimoInstante)"
      ],
      "execution_count": 21,
      "outputs": [
        {
          "output_type": "stream",
          "text": [
            "3600.177624604643\n"
          ],
          "name": "stdout"
        }
      ]
    },
    {
      "cell_type": "markdown",
      "metadata": {
        "id": "FVzIboAD8kYt"
      },
      "source": [
        "## Task 2"
      ]
    },
    {
      "cell_type": "code",
      "metadata": {
        "id": "KDbaM-Pe8lSU",
        "outputId": "f90531cd-c55e-419a-a5b9-d001ed515250",
        "colab": {
          "base_uri": "https://localhost:8080/",
          "height": 51
        }
      },
      "source": [
        "print(len(registroCola))\n",
        "cantidadServers=10\n",
        "while True:\n",
        "  _, registroCola, _=simularServerParalelo(cantServers=cantidadServers,LambdaExponencial=10,LambdaPoisson=2400 / 60,T=3600)\n",
        "  if (len(registroCola)==0):\n",
        "    break\n",
        "  cantidadServers+=1\n",
        "print(cantidadServers)"
      ],
      "execution_count": 22,
      "outputs": [
        {
          "output_type": "stream",
          "text": [
            "1229\n",
            "16\n"
          ],
          "name": "stdout"
        }
      ]
    },
    {
      "cell_type": "code",
      "metadata": {
        "id": "yJTggpkkZARD"
      },
      "source": [
        ""
      ],
      "execution_count": 22,
      "outputs": []
    },
    {
      "cell_type": "markdown",
      "metadata": {
        "id": "GsCWziH_Z3Jd"
      },
      "source": [
        "## Task 3 y 4\n",
        "\n",
        "Repetimos el procedimiento anterior, pero con valores distintos y evaluamos las preguntas."
      ]
    },
    {
      "cell_type": "code",
      "metadata": {
        "id": "dGZdPleFZ55I"
      },
      "source": [
        "LambdaPoisson = 6000/60\n",
        "T = 3600"
      ],
      "execution_count": 23,
      "outputs": []
    },
    {
      "cell_type": "markdown",
      "metadata": {
        "id": "ketqerCyaYMB"
      },
      "source": [
        "### Gorilla Megacomputing\n",
        "\n",
        "Simulamos la corrida con el nuevo valor de lambda."
      ]
    },
    {
      "cell_type": "code",
      "metadata": {
        "id": "TRUIN2K6aKb9",
        "outputId": "dc999971-0426-4dc4-9275-ab0fee17a875",
        "colab": {
          "base_uri": "https://localhost:8080/",
          "height": 68
        }
      },
      "source": [
        "llegadas, salidas, llegadasCola, salidasCola, cola,Tp = simularServer(\n",
        "    LambdaExponencial=100,\n",
        "    LambdaPoisson=LambdaPoisson,\n",
        "    T=T\n",
        "  )\n",
        "\n",
        "print(f'LARGO LLEGADAS: {len(llegadas)} \\nLARGO SALIDAS: {len(salidas)} \\nLargo de cola: {len(cola)}')"
      ],
      "execution_count": 24,
      "outputs": [
        {
          "output_type": "stream",
          "text": [
            "LARGO LLEGADAS: 360182 \n",
            "LARGO SALIDAS: 360182 \n",
            "Largo de cola: 720365\n"
          ],
          "name": "stdout"
        }
      ]
    },
    {
      "cell_type": "markdown",
      "metadata": {
        "id": "rMtyTUcnbNvH"
      },
      "source": [
        "#### Análisis de resultados\n",
        "\n",
        "1. ¿Cuántas solicitudes atendió cada servidor?"
      ]
    },
    {
      "cell_type": "code",
      "metadata": {
        "id": "L53QJs1mbNvI",
        "outputId": "f76ec970-4ce1-4701-a485-90161050b08e",
        "colab": {
          "base_uri": "https://localhost:8080/",
          "height": 34
        }
      },
      "source": [
        "# Se imprime el largo del arreglo de solicitudes que atendió el servidor\n",
        "print(f'{len(llegadas)} solicitudes en total')"
      ],
      "execution_count": 25,
      "outputs": [
        {
          "output_type": "stream",
          "text": [
            "360182 solicitudes en total\n"
          ],
          "name": "stdout"
        }
      ]
    },
    {
      "cell_type": "markdown",
      "metadata": {
        "id": "6YFoj4CFbNvL"
      },
      "source": [
        "2. ¿Cuánto tiempo estuvo el servidor ocupado?"
      ]
    },
    {
      "cell_type": "code",
      "metadata": {
        "id": "WVPows0wbNvL",
        "outputId": "41ccc82c-41ef-4a59-9142-9bc8bcada08a",
        "colab": {
          "base_uri": "https://localhost:8080/",
          "height": 34
        }
      },
      "source": [
        "# Obtenemos una sumatoria de las diferencias entre cada instante que el servidor\n",
        "# atendió y terminó una solicitud.\n",
        "segundos = int(TiempoEntreArreglos(llegadas, salidas))\n",
        "minutos = int(segundos/60)\n",
        "horas = int(minutos/60)\n",
        "print(f'{horas} horas == {minutos} minutos == {segundos} segundos')"
      ],
      "execution_count": 26,
      "outputs": [
        {
          "output_type": "stream",
          "text": [
            "425 horas == 25535 minutos == 1532140 segundos\n"
          ],
          "name": "stdout"
        }
      ]
    },
    {
      "cell_type": "markdown",
      "metadata": {
        "id": "s8DQ9tHbbNvM"
      },
      "source": [
        "3. ¿Cuánto tiempo estuvo el servidor desocupado (idle)?"
      ]
    },
    {
      "cell_type": "code",
      "metadata": {
        "id": "yCxE0rpsbNvM",
        "outputId": "f647e916-a184-4cc6-954f-fd08bbc708ec",
        "colab": {
          "base_uri": "https://localhost:8080/",
          "height": 34
        }
      },
      "source": [
        "# Hacemos una sumatoria de la diferencia entre instantes cuando el servidor\n",
        "# terminó una solicitud y entró otra.\n",
        "segundos = TiempoServidorIdle(llegadas, salidas) \n",
        "minutos = int(segundos/60)\n",
        "horas = int(minutos/60)\n",
        "print(f'{horas} horas == {minutos} minutos == {segundos} segundos')"
      ],
      "execution_count": 27,
      "outputs": [
        {
          "output_type": "stream",
          "text": [
            "-424 horas == -25475 minutos == -1528528.735150737 segundos\n"
          ],
          "name": "stdout"
        }
      ]
    },
    {
      "cell_type": "markdown",
      "metadata": {
        "id": "crRkrPlrbNvN"
      },
      "source": [
        "4. ¿Cuánto\ttiempo\ten\ttotal\testuvieron\tlas\tsolicitudes en\tcola?"
      ]
    },
    {
      "cell_type": "code",
      "metadata": {
        "id": "BUU92kZObNvO",
        "outputId": "f81a3a68-e807-43a9-cf7d-0c80edcab8e3",
        "colab": {
          "base_uri": "https://localhost:8080/",
          "height": 34
        }
      },
      "source": [
        "tiempoTotalCola = TiempoEntreArreglos(llegadasCola, salidasCola)\n",
        "minutos = int(tiempoTotalCola/60)\n",
        "horas = int(minutos/60)\n",
        "print(f'{horas} horas == {minutos} minutos == {tiempoTotalCola} segundos')"
      ],
      "execution_count": 28,
      "outputs": [
        {
          "output_type": "stream",
          "text": [
            "424 horas == 25475 minutos == 1528533.316503449 segundos\n"
          ],
          "name": "stdout"
        }
      ]
    },
    {
      "cell_type": "markdown",
      "metadata": {
        "id": "_HWLkqtJbNvP"
      },
      "source": [
        "5. En promedio ¿cuánto tiempo estuvo cada solicitud en cola?"
      ]
    },
    {
      "cell_type": "code",
      "metadata": {
        "id": "aRmMB2rdbNvP",
        "outputId": "8250a868-3562-41d3-fc64-95932d6b2296",
        "colab": {
          "base_uri": "https://localhost:8080/",
          "height": 34
        }
      },
      "source": [
        "promedioCola = tiempoTotalCola/len(llegadas)\n",
        "print(f'{promedioCola} segundos')"
      ],
      "execution_count": 29,
      "outputs": [
        {
          "output_type": "stream",
          "text": [
            "4.243780412412194 segundos\n"
          ],
          "name": "stdout"
        }
      ]
    },
    {
      "cell_type": "markdown",
      "metadata": {
        "id": "tJru7rlNbNvQ"
      },
      "source": [
        "6. En promedio, ¿cuántas solicitudes estuvieron en cola cada segundo?"
      ]
    },
    {
      "cell_type": "code",
      "metadata": {
        "id": "CBgqK3A0bNvR",
        "outputId": "59df4c5a-cf8a-4064-b489-2e553281e43d",
        "colab": {
          "base_uri": "https://localhost:8080/",
          "height": 34
        }
      },
      "source": [
        "llegadasPorSegundo={}\n",
        "\n",
        "for i in range(int(max(llegadasCola))+1):\n",
        "  llegadasPorSegundo[i]=0\n",
        "\n",
        "for i in llegadasCola:\n",
        "  llegadasPorSegundo[int(i)]+=1\n",
        "\n",
        "suma=sum(llegadasPorSegundo.values())\n",
        "cantTotal=len(llegadasPorSegundo.values())\n",
        "\n",
        "print(f'En promedio, {int(suma/cantTotal)} solicitudes en cola cada segundo')"
      ],
      "execution_count": 30,
      "outputs": [
        {
          "output_type": "stream",
          "text": [
            "En promedio, 99 solicitudes en cola cada segundo\n"
          ],
          "name": "stdout"
        }
      ]
    },
    {
      "cell_type": "markdown",
      "metadata": {
        "id": "i7WVMYMBbNvS"
      },
      "source": [
        "7. ¿Cuál es el momento de la salida de la última solicitud?"
      ]
    },
    {
      "cell_type": "code",
      "metadata": {
        "id": "sJh575kebNvT",
        "outputId": "dd07a021-12cd-47ad-e9ce-96e5b5456bf1",
        "colab": {
          "base_uri": "https://localhost:8080/",
          "height": 34
        }
      },
      "source": [
        "print(f'En el segundo {T+Tp} == minuto {(T+Tp)/60}')"
      ],
      "execution_count": 31,
      "outputs": [
        {
          "output_type": "stream",
          "text": [
            "En el segundo 3611.2871031774534 == minuto 60.18811838629089\n"
          ],
          "name": "stdout"
        }
      ]
    },
    {
      "cell_type": "markdown",
      "metadata": {
        "id": "PpL-25Yte3gl"
      },
      "source": [
        "### Ant Smart Computing\n",
        "\n",
        "Nuevamente, realizamos otra simulación con los nuevos valores"
      ]
    },
    {
      "cell_type": "code",
      "metadata": {
        "id": "wTGUYUz9e6Pn"
      },
      "source": [
        "registroServers, registroCola, ultimoInstante = simularServerParalelo(\n",
        "    cantServers=10,\n",
        "    LambdaExponencial=10,\n",
        "    LambdaPoisson=LambdaPoisson,\n",
        "    T=T\n",
        "  )"
      ],
      "execution_count": 32,
      "outputs": []
    },
    {
      "cell_type": "markdown",
      "metadata": {
        "id": "IONEWG9NflwD"
      },
      "source": [
        "#### Análisis de resultados\n",
        "\n",
        "1. ¿Cuántas solicitudes atendió cada servidor?"
      ]
    },
    {
      "cell_type": "code",
      "metadata": {
        "id": "IDZQmd9mflwG",
        "outputId": "924c81c8-bb5c-44ce-a1e6-3293214828a5",
        "colab": {
          "base_uri": "https://localhost:8080/",
          "height": 187
        }
      },
      "source": [
        "# Se imprime el largo del arreglo de solicitudes que atendió el servidor\n",
        "for i in range(len(registroServers)):\n",
        "  total=len(registroServers[i]['llegadas'])\n",
        "  print(f'Servidor {i} atendio un total de {total} solicitudes')"
      ],
      "execution_count": 33,
      "outputs": [
        {
          "output_type": "stream",
          "text": [
            "Servidor 0 atendio un total de 35905 solicitudes\n",
            "Servidor 1 atendio un total de 35951 solicitudes\n",
            "Servidor 2 atendio un total de 35646 solicitudes\n",
            "Servidor 3 atendio un total de 35681 solicitudes\n",
            "Servidor 4 atendio un total de 35867 solicitudes\n",
            "Servidor 5 atendio un total de 35857 solicitudes\n",
            "Servidor 6 atendio un total de 36162 solicitudes\n",
            "Servidor 7 atendio un total de 35907 solicitudes\n",
            "Servidor 8 atendio un total de 35906 solicitudes\n",
            "Servidor 9 atendio un total de 35990 solicitudes\n"
          ],
          "name": "stdout"
        }
      ]
    },
    {
      "cell_type": "markdown",
      "metadata": {
        "id": "YWHMVdKeflwK"
      },
      "source": [
        "2. ¿Cuánto tiempo estuvo el servidor ocupado?"
      ]
    },
    {
      "cell_type": "code",
      "metadata": {
        "id": "tdiz0QeZflwL",
        "outputId": "4e5831c9-3e9c-4d9c-f487-01ad596f85ba",
        "colab": {
          "base_uri": "https://localhost:8080/",
          "height": 187
        }
      },
      "source": [
        "# Obtenemos una sumatoria de las diferencias entre cada instante que el servidor\n",
        "# atendió y terminó una solicitud.\n",
        "\n",
        "for i in range(len(registroServers)):\n",
        "  try:\n",
        "    llegadasDict=registroServers[i]['llegadas']\n",
        "    salidasDict=registroServers[i]['salidas']\n",
        "    llegadasList=[]\n",
        "    salidasList=[]\n",
        "    for id in registroServers[0]['llegadas'].keys():\n",
        "      llegadasList.append(llegadasDict[id])\n",
        "      salidasList.append(salidasDict[id])\n",
        "    \n",
        "    print(f'Servidor {i} estuvo ocupado {TiempoEntreArreglos(llegadasList, salidasList)} segundos')\n",
        "  except:\n",
        "    print(f'Servidor {i} estuvo ocupado 0 segundos')\n",
        "    \n",
        "#print(f'{TiempoEntreArreglos(llegadas, salidas)} segundos')"
      ],
      "execution_count": 34,
      "outputs": [
        {
          "output_type": "stream",
          "text": [
            "Servidor 0 estuvo ocupado inf segundos\n",
            "Servidor 1 estuvo ocupado 0 segundos\n",
            "Servidor 2 estuvo ocupado 0 segundos\n",
            "Servidor 3 estuvo ocupado 0 segundos\n",
            "Servidor 4 estuvo ocupado 0 segundos\n",
            "Servidor 5 estuvo ocupado 0 segundos\n",
            "Servidor 6 estuvo ocupado 0 segundos\n",
            "Servidor 7 estuvo ocupado 0 segundos\n",
            "Servidor 8 estuvo ocupado 0 segundos\n",
            "Servidor 9 estuvo ocupado 0 segundos\n"
          ],
          "name": "stdout"
        }
      ]
    },
    {
      "cell_type": "markdown",
      "metadata": {
        "id": "Ik1yibL7flwN"
      },
      "source": [
        "3. ¿Cuánto tiempo estuvo el servidor desocupado (idle)?"
      ]
    },
    {
      "cell_type": "code",
      "metadata": {
        "id": "72IJQ2pLflwO",
        "outputId": "3157a1b7-cf42-4155-a5b9-00b5f46dcee9",
        "colab": {
          "base_uri": "https://localhost:8080/",
          "height": 187
        }
      },
      "source": [
        "# Hacemos una sumatoria de la diferencia entre instantes cuando el servidor\n",
        "# terminó una solicitud y entró otra.\n",
        "for i in range(len(registroServers)):\n",
        "  try:\n",
        "    llegadasDict=registroServers[i]['llegadas']\n",
        "    salidasDict=registroServers[i]['salidas']\n",
        "    llegadasList=[]\n",
        "    salidasList=[]\n",
        "    for id in registroServers[0]['llegadas'].keys():\n",
        "      llegadasList.append(llegadasDict[id])\n",
        "      salidasList.append(salidasDict[id])\n",
        "    \n",
        "    print(f'Servidor {i} estuvo desocupado {TiempoServidorIdle(llegadasList, salidasList)} segundos')\n",
        "  except:\n",
        "    print(f'Servidor {i} estuvo desocupado todo el tiempo')\n"
      ],
      "execution_count": 35,
      "outputs": [
        {
          "output_type": "stream",
          "text": [
            "Servidor 0 estuvo desocupado 0.25745831535005104 segundos\n",
            "Servidor 1 estuvo desocupado todo el tiempo\n",
            "Servidor 2 estuvo desocupado todo el tiempo\n",
            "Servidor 3 estuvo desocupado todo el tiempo\n",
            "Servidor 4 estuvo desocupado todo el tiempo\n",
            "Servidor 5 estuvo desocupado todo el tiempo\n",
            "Servidor 6 estuvo desocupado todo el tiempo\n",
            "Servidor 7 estuvo desocupado todo el tiempo\n",
            "Servidor 8 estuvo desocupado todo el tiempo\n",
            "Servidor 9 estuvo desocupado todo el tiempo\n"
          ],
          "name": "stdout"
        }
      ]
    },
    {
      "cell_type": "markdown",
      "metadata": {
        "id": "vUAdSzuBflwQ"
      },
      "source": [
        "4. ¿Cuánto\ttiempo\ten\ttotal\testuvieron\tlas\tsolicitudes en\tcola?"
      ]
    },
    {
      "cell_type": "code",
      "metadata": {
        "id": "7gRC8AlwflwQ",
        "outputId": "34fee821-10cd-4eb7-d116-3b3fca9f519f",
        "colab": {
          "base_uri": "https://localhost:8080/",
          "height": 231
        }
      },
      "source": [
        "if (len(registroCola)>0):\n",
        "  llegadasCola=[]\n",
        "  salidasCola=[]\n",
        "  for i in registroCola.keys():\n",
        "    llegadasCola.append(registroCola[i][0])\n",
        "    idServidor=registroCola[i][1]\n",
        "    idProceso=i\n",
        "    salidasCola.append(registroServers[idServidor-1]['llegadas'][idProceso])\n",
        "  tiempoTotalCola = TiempoEntreArreglos(llegadasCola, salidasCola)\n",
        "  print(f'{tiempoTotalCola} segundos')\n",
        "else:\n",
        "  print('No hay cola')\n"
      ],
      "execution_count": 36,
      "outputs": [
        {
          "output_type": "error",
          "ename": "TypeError",
          "evalue": "ignored",
          "traceback": [
            "\u001b[0;31m---------------------------------------------------------------------------\u001b[0m",
            "\u001b[0;31mTypeError\u001b[0m                                 Traceback (most recent call last)",
            "\u001b[0;32m<ipython-input-36-04e7599235f7>\u001b[0m in \u001b[0;36m<module>\u001b[0;34m()\u001b[0m\n\u001b[1;32m      6\u001b[0m     \u001b[0midServidor\u001b[0m\u001b[0;34m=\u001b[0m\u001b[0mregistroCola\u001b[0m\u001b[0;34m[\u001b[0m\u001b[0mi\u001b[0m\u001b[0;34m]\u001b[0m\u001b[0;34m[\u001b[0m\u001b[0;36m1\u001b[0m\u001b[0;34m]\u001b[0m\u001b[0;34m\u001b[0m\u001b[0;34m\u001b[0m\u001b[0m\n\u001b[1;32m      7\u001b[0m     \u001b[0midProceso\u001b[0m\u001b[0;34m=\u001b[0m\u001b[0mi\u001b[0m\u001b[0;34m\u001b[0m\u001b[0;34m\u001b[0m\u001b[0m\n\u001b[0;32m----> 8\u001b[0;31m     \u001b[0msalidasCola\u001b[0m\u001b[0;34m.\u001b[0m\u001b[0mappend\u001b[0m\u001b[0;34m(\u001b[0m\u001b[0mregistroServers\u001b[0m\u001b[0;34m[\u001b[0m\u001b[0midServidor\u001b[0m\u001b[0;34m-\u001b[0m\u001b[0;36m1\u001b[0m\u001b[0;34m]\u001b[0m\u001b[0;34m[\u001b[0m\u001b[0;34m'llegadas'\u001b[0m\u001b[0;34m]\u001b[0m\u001b[0;34m[\u001b[0m\u001b[0midProceso\u001b[0m\u001b[0;34m]\u001b[0m\u001b[0;34m)\u001b[0m\u001b[0;34m\u001b[0m\u001b[0;34m\u001b[0m\u001b[0m\n\u001b[0m\u001b[1;32m      9\u001b[0m   \u001b[0mtiempoTotalCola\u001b[0m \u001b[0;34m=\u001b[0m \u001b[0mTiempoEntreArreglos\u001b[0m\u001b[0;34m(\u001b[0m\u001b[0mllegadasCola\u001b[0m\u001b[0;34m,\u001b[0m \u001b[0msalidasCola\u001b[0m\u001b[0;34m)\u001b[0m\u001b[0;34m\u001b[0m\u001b[0;34m\u001b[0m\u001b[0m\n\u001b[1;32m     10\u001b[0m   \u001b[0mprint\u001b[0m\u001b[0;34m(\u001b[0m\u001b[0;34mf'{tiempoTotalCola} segundos'\u001b[0m\u001b[0;34m)\u001b[0m\u001b[0;34m\u001b[0m\u001b[0;34m\u001b[0m\u001b[0m\n",
            "\u001b[0;31mTypeError\u001b[0m: unsupported operand type(s) for -: 'NoneType' and 'int'"
          ]
        }
      ]
    },
    {
      "cell_type": "markdown",
      "metadata": {
        "id": "LdM_EuZMflwS"
      },
      "source": [
        "5. En promedio ¿cuánto tiempo estuvo cada solicitud en cola?"
      ]
    },
    {
      "cell_type": "code",
      "metadata": {
        "id": "war9bTv1flwS",
        "outputId": "94d7c0f7-816f-4c93-8a4b-ebfd28c83cee",
        "colab": {
          "base_uri": "https://localhost:8080/",
          "height": 34
        }
      },
      "source": [
        "idSolicitudes=[]\n",
        "for i in registroServers:\n",
        "  idSolicitudes+=i['llegadas'].keys()\n",
        "promedioCola = tiempoTotalCola/max(idSolicitudes)\n",
        "print(f'{promedioCola} segundos')"
      ],
      "execution_count": 37,
      "outputs": [
        {
          "output_type": "stream",
          "text": [
            "4.259271596846366 segundos\n"
          ],
          "name": "stdout"
        }
      ]
    },
    {
      "cell_type": "markdown",
      "metadata": {
        "id": "2BzJMWWDflwU"
      },
      "source": [
        "6. En promedio, ¿cuántas solicitudes estuvieron en cola cada segundo?"
      ]
    },
    {
      "cell_type": "code",
      "metadata": {
        "id": "Y3yqNZ9MflwV",
        "outputId": "2ca6ee19-e51b-4a3f-d3d2-a39a2e9b7d38",
        "colab": {
          "base_uri": "https://localhost:8080/",
          "height": 34
        }
      },
      "source": [
        "instantesDeIngresoCola=[]\n",
        "for i in registroCola.values():\n",
        "  instantesDeIngresoCola.append(i[0])\n",
        "\n",
        "\n",
        "llegadasPorSegundo={}\n",
        "\n",
        "for i in range(int(max(instantesDeIngresoCola))+1):\n",
        "  llegadasPorSegundo[i]=0\n",
        "\n",
        "\n",
        "\n",
        "for i in instantesDeIngresoCola:\n",
        "  llegadasPorSegundo[int(i)]+=1\n",
        "\n",
        "\n",
        "suma=sum(llegadasPorSegundo.values())\n",
        "cantTotal=len(llegadasPorSegundo.values())\n",
        "\n",
        "print(f'En promedio, {int(suma/cantTotal)} solicitudes en cola cada segundo')\n"
      ],
      "execution_count": 38,
      "outputs": [
        {
          "output_type": "stream",
          "text": [
            "En promedio, 99 solicitudes en cola cada segundo\n"
          ],
          "name": "stdout"
        }
      ]
    },
    {
      "cell_type": "markdown",
      "metadata": {
        "id": "bRxAjzl_flwX"
      },
      "source": [
        "7. ¿Cuál es el momento de la salida de la última solicitud?"
      ]
    },
    {
      "cell_type": "code",
      "metadata": {
        "id": "FUEsWLSOflwX",
        "outputId": "3c38b911-478a-473c-cbde-6be5aa0d20df",
        "colab": {
          "base_uri": "https://localhost:8080/",
          "height": 34
        }
      },
      "source": [
        "print(ultimoInstante)"
      ],
      "execution_count": 39,
      "outputs": [
        {
          "output_type": "stream",
          "text": [
            "inf\n"
          ],
          "name": "stdout"
        }
      ]
    },
    {
      "cell_type": "code",
      "metadata": {
        "id": "XrPrc8Wbg3A-"
      },
      "source": [
        ""
      ],
      "execution_count": null,
      "outputs": []
    },
    {
      "cell_type": "markdown",
      "metadata": {
        "id": "ka23VPg2hEmV"
      },
      "source": [
        "## Task 5"
      ]
    },
    {
      "cell_type": "markdown",
      "metadata": {
        "id": "sTzqdk4phMaV"
      },
      "source": [
        "#### Recomendación a junta directiva:\n",
        "\n",
        "Aspectos a tomar en cuenta:\n",
        "\n",
        "* Solicitudes totales\n",
        "* Tiempo del sistema Ocupado e IDLE\n",
        "* Tiempo total y promedio de solicitudes en cola\n",
        "* Promedio de solicitudes en cola por segundo"
      ]
    },
    {
      "cell_type": "code",
      "metadata": {
        "id": "XN_qJoQchouA"
      },
      "source": [
        ""
      ],
      "execution_count": null,
      "outputs": []
    }
  ]
}