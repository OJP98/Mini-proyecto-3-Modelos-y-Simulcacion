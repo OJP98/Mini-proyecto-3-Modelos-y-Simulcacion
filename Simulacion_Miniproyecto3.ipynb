{
  "nbformat": 4,
  "nbformat_minor": 0,
  "metadata": {
    "colab": {
      "name": "Simulacion-Miniproyecto3",
      "provenance": [],
      "collapsed_sections": [
        "ljF-PN-5g6PM",
        "CFsZcgkvhcwQ",
        "K8P3NdR_E_A9",
        "FCBm_zMe44_x",
        "HvVBT5m-78pr",
        "T884Pt7t8ZZR",
        "J5cXyrW09O6m"
      ],
      "toc_visible": true
    },
    "kernelspec": {
      "name": "python3",
      "display_name": "Python 3"
    }
  },
  "cells": [
    {
      "cell_type": "markdown",
      "metadata": {
        "id": "oKc-NvwCgdwN"
      },
      "source": [
        "# Miniproyecto #3\n",
        "\n",
        "Modelos y Simulación - Sección 10\n",
        "\n",
        "Fecha: 28-09-2020\n",
        "\n",
        "## Integrantes:\n",
        "* Oscar Juárez - 17315\n",
        "* José Cifuentes - 17509"
      ]
    },
    {
      "cell_type": "markdown",
      "metadata": {
        "id": "ljF-PN-5g6PM"
      },
      "source": [
        "## Importación de librerías\n"
      ]
    },
    {
      "cell_type": "code",
      "metadata": {
        "id": "woXQkNmhgMaa"
      },
      "source": [
        "import random\n",
        "import math\n",
        "from pprint import pprint\n",
        "import matplotlib.pyplot as plt"
      ],
      "execution_count": 1,
      "outputs": []
    },
    {
      "cell_type": "markdown",
      "metadata": {
        "id": "CFsZcgkvhcwQ"
      },
      "source": [
        "## Funciones útiles"
      ]
    },
    {
      "cell_type": "code",
      "metadata": {
        "id": "AAD7C6AahfwT"
      },
      "source": [
        "def GenerarNuevoTiempo(instante, LambdaPoisson):\n",
        "    return instante + exponencial(LambdaPoisson)\n",
        "\n",
        "def exponencial(Lambda):\n",
        "    U = random.random()\n",
        "    return -(1/Lambda)*math.log(U)\n",
        "\n",
        "def TiempoEntreArreglos(llegadas, salidas):\n",
        "    suma = 0\n",
        "    for i in range(len(llegadas)):\n",
        "        suma += salidas[i]-llegadas[i]\n",
        "    return suma\n",
        "\n",
        "def TiempoServidorIdle(llegadas, salidas):\n",
        "    suma = 0\n",
        "    for i in range(len(llegadas)-1):\n",
        "        suma += llegadas[i+1]-salidas[i]\n",
        "    return suma + (0-llegadas[0])\n",
        "\n",
        "def ServersAreIdle(SS):\n",
        "    return True if sum(SS[1:]) == 0 else False\n",
        "\n",
        "def GetNextIdle(SS):\n",
        "    SS = SS[1:]\n",
        "    try:\n",
        "        return SS.index(0)+1\n",
        "    except:\n",
        "        return -1\n",
        "\n",
        "def GetMinT(serverList):\n",
        "    reqs = [i['t'] for i in serverList]\n",
        "    minT = min(reqs)\n",
        "    return minT, reqs.index(minT)\n"
      ],
      "execution_count": 2,
      "outputs": []
    },
    {
      "cell_type": "markdown",
      "metadata": {
        "id": "K8P3NdR_E_A9"
      },
      "source": [
        "## Algoritmo para servidores dinámicos"
      ]
    },
    {
      "cell_type": "code",
      "metadata": {
        "id": "NmjmX4kiFCIt"
      },
      "source": [
        "def simularServerParalelo(cantServers,LambdaExponencial,LambdaPoisson,T):\n",
        "  # ------------ Inicializacion ------------\n",
        "  #Lambda = num. eventos/ num. unidades\n",
        "\n",
        "  servers = [{\n",
        "      'llegadas': {},\n",
        "      'salidas': {},\n",
        "      't': math.inf\n",
        "  } for i in range(cantServers)]\n",
        "\n",
        "  #LambdaPoisson = 2400 / 60\n",
        "  #LambdaExponencial = 100\n",
        "  t, Na,Nd = 0,0,0\n",
        "  SS = [0 for i in range(cantServers + 1)]\n",
        "  tA = GenerarNuevoTiempo(0, LambdaPoisson)\n",
        "  #T = 0.1\n",
        "\n",
        "  cola = {}\n",
        "\n",
        "  while True:\n",
        "      # CASO 1\n",
        "\n",
        "      # Obtenemos el t más pequeño de entre todos los serivdores\n",
        "      minT, indexMinT = GetMinT(servers)\n",
        "\n",
        "      # nuevo ingreso en tiempo tA\n",
        "      if (tA == min(tA, minT) and tA < T):\n",
        "          # print('CASO1')\n",
        "          t = tA\n",
        "          Na += 1\n",
        "          tA = GenerarNuevoTiempo(t, LambdaPoisson)\n",
        "          # Obtenemos el próximo servidor que está idle (0)\n",
        "          idleServer = GetNextIdle(SS)\n",
        "\n",
        "          if (SS[0] == 0 and ServersAreIdle(SS)):\n",
        "\n",
        "              SS[1] = Na\n",
        "              SS[0] = 1\n",
        "\n",
        "              # todo libre\n",
        "              servers[0]['llegadas'][Na] = t\n",
        "              servers[0]['t'] = t + exponencial(LambdaExponencial)\n",
        "\n",
        "          elif (SS[0] > 0 and idleServer != -1):\n",
        "              # un cliente y servidor 2 libre\n",
        "              SS[idleServer] = Na\n",
        "              SS[0] = SS[0]+1\n",
        "\n",
        "              # En el servidor correspondiente, marcamos el instante de llegada y el t\n",
        "              servers[idleServer-1]['llegadas'][Na] = t\n",
        "              servers[idleServer-1]['t'] = t + exponencial(LambdaExponencial)\n",
        "\n",
        "          elif SS[0] > len(servers)-1:\n",
        "              cola[Na] = [t, None]\n",
        "              SS[0] = SS[0] + 1\n",
        "\n",
        "          continue\n",
        "\n",
        "      elif minT < tA:\n",
        "          t = servers[indexMinT]['t']\n",
        "\n",
        "          # Obtenemos el id de la solicitud terminada\n",
        "          # Se suma 1 a indexMintT porque estamos en SS (en donde la primera posición es\n",
        "          # la cantidad de solicitudes en el sistema)\n",
        "          solicitudActual = SS[indexMinT + 1]\n",
        "\n",
        "          # Actualizamos la salida de la solicitud correspondiente\n",
        "          servers[indexMinT]['salidas'][solicitudActual] = t\n",
        "\n",
        "          if 0 < SS[0] <= cantServers:\n",
        "              SS[0] = SS[0]-1\n",
        "              SS[indexMinT+1] = 0\n",
        "              servers[indexMinT]['t'] = math.inf\n",
        "\n",
        "          elif SS[0] > cantServers:\n",
        "              sigSolicitud = max(SS[1:]) + 1\n",
        "\n",
        "              SS[indexMinT+1] = sigSolicitud\n",
        "              SS[0] = SS[0] - 1\n",
        "\n",
        "              cola[sigSolicitud][1] = indexMinT+1\n",
        "              servers[indexMinT]['llegadas'][sigSolicitud] = t\n",
        "\n",
        "              servers[indexMinT]['t'] = t + exponencial(LambdaExponencial)\n",
        "\n",
        "          continue\n",
        "\n",
        "      elif SS[0] > 0:\n",
        "\n",
        "        t = servers[indexMinT]['t']\n",
        "        solicitudActual = SS[indexMinT + 1]\n",
        "\n",
        "        # Actualizamos la salida de la solicitud correspondiente\n",
        "        servers[indexMinT]['salidas'][solicitudActual] = t + \\\n",
        "            exponencial(LambdaExponencial)\n",
        "\n",
        "        if SS[0] > cantServers:\n",
        "            sigSolicitud = max(SS[1:]) + 1\n",
        "\n",
        "            SS[indexMinT+1] = sigSolicitud\n",
        "\n",
        "            cola[sigSolicitud][1] = indexMinT+1\n",
        "            servers[indexMinT]['llegadas'][sigSolicitud] = t\n",
        "\n",
        "            servers[indexMinT]['t'] = t + exponencial(LambdaExponencial)\n",
        "\n",
        "        else:\n",
        "            servers[indexMinT]['t'] = math.inf\n",
        "\n",
        "        # Actualizamos cantidad de solicitudes en el sistema\n",
        "        SS[0] = SS[0] - 1\n",
        "\n",
        "        continue\n",
        "\n",
        "      return servers, cola, t\n",
        "      break\n"
      ],
      "execution_count": 3,
      "outputs": []
    },
    {
      "cell_type": "code",
      "metadata": {
        "id": "sQp9jL2amcCY"
      },
      "source": [
        ""
      ],
      "execution_count": 3,
      "outputs": []
    },
    {
      "cell_type": "markdown",
      "metadata": {
        "id": "wrsfHoHf8cMo"
      },
      "source": [
        "## Task 1"
      ]
    },
    {
      "cell_type": "markdown",
      "metadata": {
        "id": "1njnYlY5hBlP"
      },
      "source": [
        "### Gorilla Megacomputing\n",
        "\n",
        "Se utiliza el mismo algoritmo de server paralelo ya que este contiene implícitamente los algoritmos para servidores individuales y múltiples."
      ]
    },
    {
      "cell_type": "code",
      "metadata": {
        "id": "NE-yTv4jkuaq"
      },
      "source": [
        "T=3600\n",
        "LambdaPoisson = 2400/60\n",
        "registro, cola, ultimoInstante = simularServerParalelo(cantServers=1, LambdaExponencial=100,LambdaPoisson=LambdaPoisson,T=T)"
      ],
      "execution_count": 4,
      "outputs": []
    },
    {
      "cell_type": "markdown",
      "metadata": {
        "id": "CCwpuFtLhtfH"
      },
      "source": [
        "#### Impresión de resutaldos\n"
      ]
    },
    {
      "cell_type": "code",
      "metadata": {
        "id": "2ItL1Ac6hwPa",
        "outputId": "c0836b3b-a3da-46e4-cd41-94feb74608b2",
        "colab": {
          "base_uri": "https://localhost:8080/",
          "height": 85
        }
      },
      "source": [
        "# Print de resultados finales\n",
        "print('LOS RESULTADOS FINALES SON:\\n')\n",
        "server = registro[0]\n",
        "llegadas = server['llegadas']\n",
        "print(f'LARGO LLEGADAS: {len(llegadas)} \\nLARGO DE COLA: {len(cola)}')"
      ],
      "execution_count": 5,
      "outputs": [
        {
          "output_type": "stream",
          "text": [
            "LOS RESULTADOS FINALES SON:\n",
            "\n",
            "LARGO LLEGADAS: 143977 \n",
            "LARGO DE COLA: 57552\n"
          ],
          "name": "stdout"
        }
      ]
    },
    {
      "cell_type": "markdown",
      "metadata": {
        "id": "bq1DUQN0RrE2"
      },
      "source": [
        "#### Resultados proveedor 1\n",
        "\n",
        "1. ¿Cuántas solicitudes atendió cada servidor?"
      ]
    },
    {
      "cell_type": "code",
      "metadata": {
        "id": "0lEB-EjvUyGT",
        "outputId": "dfcad15f-68b8-4dd2-c102-3e01152c806b",
        "colab": {
          "base_uri": "https://localhost:8080/",
          "height": 34
        }
      },
      "source": [
        "# Se imprime el largo del arreglo de solicitudes que atendió el servidor\n",
        "solTotalesG1 = len(llegadas)\n",
        "print(f' El Servidor atendio un total de {solTotalesG1} solicitudes')"
      ],
      "execution_count": 6,
      "outputs": [
        {
          "output_type": "stream",
          "text": [
            " El Servidor atendio un total de 143977 solicitudes\n"
          ],
          "name": "stdout"
        }
      ]
    },
    {
      "cell_type": "markdown",
      "metadata": {
        "id": "gsnIx0saVIK0"
      },
      "source": [
        "2. ¿Cuánto tiempo estuvo el servidor ocupado?"
      ]
    },
    {
      "cell_type": "code",
      "metadata": {
        "id": "VWrk5cb2VMaZ",
        "outputId": "f597a290-d288-49b7-ef3e-f4c55277f39b",
        "colab": {
          "base_uri": "https://localhost:8080/",
          "height": 34
        }
      },
      "source": [
        "# Obtenemos una sumatoria de las diferencias entre cada instante que el servidor\n",
        "# atendió y terminó una solicitud.\n",
        "\n",
        "salidas = server['salidas'] \n",
        "llegadasList = []\n",
        "salidasList = []\n",
        "for id in registro[0]['llegadas'].keys():\n",
        "  llegadasList.append(llegadas[id])\n",
        "  salidasList.append(salidas[id])\n",
        "\n",
        "tiempoOcupadoG1 = round(TiempoEntreArreglos(llegadasList, salidasList), 3)\n",
        "print(f'El Servidor estuvo ocupado {tiempoOcupadoG1} segundos')"
      ],
      "execution_count": 7,
      "outputs": [
        {
          "output_type": "stream",
          "text": [
            "El Servidor estuvo ocupado 1439.682 segundos\n"
          ],
          "name": "stdout"
        }
      ]
    },
    {
      "cell_type": "markdown",
      "metadata": {
        "id": "6HJVD2ISWJpg"
      },
      "source": [
        "3. ¿Cuánto tiempo estuvo el servidor desocupado (idle)?"
      ]
    },
    {
      "cell_type": "code",
      "metadata": {
        "id": "QuveMh80WNmp",
        "outputId": "ea9c30db-19d1-414c-d3b0-fef368e36b5d",
        "colab": {
          "base_uri": "https://localhost:8080/",
          "height": 34
        }
      },
      "source": [
        "tiempoDesocupadoG1 = round(abs(TiempoServidorIdle(llegadasList, salidasList)), 3)\n",
        "print(f'El Servidor estuvo desocupado {tiempoDesocupadoG1} segundos')"
      ],
      "execution_count": 8,
      "outputs": [
        {
          "output_type": "stream",
          "text": [
            "El Servidor estuvo desocupado 2160.336 segundos\n"
          ],
          "name": "stdout"
        }
      ]
    },
    {
      "cell_type": "markdown",
      "metadata": {
        "id": "t7GOudP4W8AE"
      },
      "source": [
        "4. ¿Cuánto\ttiempo\ten\ttotal\testuvieron\tlas\tsolicitudes en\tcola?"
      ]
    },
    {
      "cell_type": "code",
      "metadata": {
        "id": "hZU9hV7PXAwM",
        "outputId": "1193b9a4-49a2-4ed9-ffaa-cd6449df6419",
        "colab": {
          "base_uri": "https://localhost:8080/",
          "height": 34
        }
      },
      "source": [
        "if len(cola) > 0:\n",
        "  llegadasCola = []\n",
        "  salidasCola = []\n",
        "  for i in cola.keys():\n",
        "    llegadasCola.append(cola[i][0])\n",
        "    idServidor = cola[i][1]\n",
        "    idProceso = i\n",
        "    salidasCola.append(llegadas[idProceso])\n",
        "  tiempoTotalColaG1 = round(TiempoEntreArreglos(llegadasCola, salidasCola), 3)\n",
        "  print(f'{tiempoTotalColaG1} segundos')\n",
        "else:\n",
        "  print('No hay cola')"
      ],
      "execution_count": 9,
      "outputs": [
        {
          "output_type": "stream",
          "text": [
            "965.22 segundos\n"
          ],
          "name": "stdout"
        }
      ]
    },
    {
      "cell_type": "markdown",
      "metadata": {
        "id": "aOTiKyoLXtfJ"
      },
      "source": [
        "5. En promedio ¿cuánto tiempo estuvo cada solicitud en cola?"
      ]
    },
    {
      "cell_type": "code",
      "metadata": {
        "id": "NeIqBb9uXw9q",
        "outputId": "30cd5dad-7502-4565-b197-9735145965ab",
        "colab": {
          "base_uri": "https://localhost:8080/",
          "height": 34
        }
      },
      "source": [
        "idSolicitudes = []\n",
        "for i in registro:\n",
        "  idSolicitudes += i['llegadas'].keys()\n",
        "promedioCola = tiempoTotalColaG1/max(idSolicitudes)\n",
        "print(f'{promedioCola} segundos')"
      ],
      "execution_count": 10,
      "outputs": [
        {
          "output_type": "stream",
          "text": [
            "0.0067039874424387235 segundos\n"
          ],
          "name": "stdout"
        }
      ]
    },
    {
      "cell_type": "markdown",
      "metadata": {
        "id": "ja7hSSZLY0ZM"
      },
      "source": [
        "6. En promedio, ¿cuántas solicitudes estuvieron en cola cada segundo?"
      ]
    },
    {
      "cell_type": "code",
      "metadata": {
        "id": "wjUrEICVY4YH",
        "outputId": "cc0f82af-c671-475c-a683-4c034d860dbe",
        "colab": {
          "base_uri": "https://localhost:8080/",
          "height": 34
        }
      },
      "source": [
        "instantesDeIngresoCola = []\n",
        "for i in cola.values():\n",
        "  instantesDeIngresoCola.append(i[0])\n",
        "\n",
        "llegadasPorSegundo = {}\n",
        "\n",
        "for i in range(int(max(instantesDeIngresoCola))+1):\n",
        "  llegadasPorSegundo[i]=0\n",
        "\n",
        "for i in instantesDeIngresoCola:\n",
        "  llegadasPorSegundo[int(i)]+=1\n",
        "\n",
        "suma = sum(llegadasPorSegundo.values())\n",
        "cantTotal = len(llegadasPorSegundo.values())\n",
        "\n",
        "promSolColaPorSegundoG1 = int(suma/cantTotal)\n",
        "print(f'En promedio, {promSolColaPorSegundoG1} solicitudes en cola cada segundo')\n"
      ],
      "execution_count": 11,
      "outputs": [
        {
          "output_type": "stream",
          "text": [
            "En promedio, 15 solicitudes en cola cada segundo\n"
          ],
          "name": "stdout"
        }
      ]
    },
    {
      "cell_type": "markdown",
      "metadata": {
        "id": "sarZBQRqY84B"
      },
      "source": [
        "7. ¿Cuál es el momento de la salida de la última solicitud?"
      ]
    },
    {
      "cell_type": "code",
      "metadata": {
        "id": "uBxwx-JDZAdM",
        "outputId": "6c72eff5-2258-46b3-d92f-062a78e0d9b3",
        "colab": {
          "base_uri": "https://localhost:8080/",
          "height": 34
        }
      },
      "source": [
        "tiempoCorridaG1 = round(ultimoInstante, 3)\n",
        "print(tiempoCorridaG1)"
      ],
      "execution_count": 12,
      "outputs": [
        {
          "output_type": "stream",
          "text": [
            "3600.008\n"
          ],
          "name": "stdout"
        }
      ]
    },
    {
      "cell_type": "markdown",
      "metadata": {
        "id": "lLyeAU0JZGBI"
      },
      "source": [
        "### Ant Smart Computing"
      ]
    },
    {
      "cell_type": "code",
      "metadata": {
        "id": "r4VIeGcnqP8e"
      },
      "source": [
        "registroServers, registroCola, ultimoInstante=simularServerParalelo(cantServers=10,LambdaExponencial=10,LambdaPoisson=2400 / 60,T=3600)"
      ],
      "execution_count": 13,
      "outputs": []
    },
    {
      "cell_type": "markdown",
      "metadata": {
        "id": "G3d9Ngp3q9sy"
      },
      "source": [
        "#### Resultados proveedor 2\n",
        "\n",
        "1. ¿Cuántas solicitudes atendió cada servidor?"
      ]
    },
    {
      "cell_type": "code",
      "metadata": {
        "id": "BitX6Bu_q9sz",
        "outputId": "8f86bf93-cc2d-446d-962b-da9ab2ede56e",
        "colab": {
          "base_uri": "https://localhost:8080/",
          "height": 238
        }
      },
      "source": [
        "# Se imprime el largo del arreglo de solicitudes que atendió el servidor\n",
        "totales = []\n",
        "for i in range(len(registroServers)):\n",
        "  total=len(registroServers[i]['llegadas'])\n",
        "  totales.append(total)\n",
        "  print(f'Servidor {i} atendio un total de {total} solicitudes')\n",
        "\n",
        "solTotalesA1 = sum(totales)\n",
        "print(f'\\nSe atendieron {solTotalesG1} solicitudes en total\\n')"
      ],
      "execution_count": 14,
      "outputs": [
        {
          "output_type": "stream",
          "text": [
            "Servidor 0 atendio un total de 28734 solicitudes\n",
            "Servidor 1 atendio un total de 26626 solicitudes\n",
            "Servidor 2 atendio un total de 23753 solicitudes\n",
            "Servidor 3 atendio un total de 20187 solicitudes\n",
            "Servidor 4 atendio un total de 16176 solicitudes\n",
            "Servidor 5 atendio un total de 11835 solicitudes\n",
            "Servidor 6 atendio un total de 7896 solicitudes\n",
            "Servidor 7 atendio un total de 4801 solicitudes\n",
            "Servidor 8 atendio un total de 2577 solicitudes\n",
            "Servidor 9 atendio un total de 1347 solicitudes\n",
            "\n",
            "Se atendieron 143977 solicitudes en total\n",
            "\n"
          ],
          "name": "stdout"
        }
      ]
    },
    {
      "cell_type": "markdown",
      "metadata": {
        "id": "QzVgdOTWq9s3"
      },
      "source": [
        "2. ¿Cuánto tiempo estuvo cada servidor ocupado?"
      ]
    },
    {
      "cell_type": "code",
      "metadata": {
        "id": "RRdaOcFVq9s4",
        "outputId": "6af73ed8-6b06-45d7-cc79-16bbbcc5cefc",
        "colab": {
          "base_uri": "https://localhost:8080/",
          "height": 187
        }
      },
      "source": [
        "# Obtenemos una sumatoria de las diferencias entre cada instante que el servidor\n",
        "# atendió y terminó una solicitud.\n",
        "tiemposOA1 = []\n",
        "for i in range(len(registroServers)):\n",
        "  try:\n",
        "    llegadasDict=registroServers[i]['llegadas']\n",
        "    salidasDict=registroServers[i]['salidas']\n",
        "    llegadasList=[]\n",
        "    salidasList=[]\n",
        "    for id in registroServers[i]['llegadas'].keys():\n",
        "      llegadasList.append(llegadasDict[id])\n",
        "      salidasList.append(salidasDict[id])\n",
        "    \n",
        "    tiempoOcupado = round(TiempoEntreArreglos(llegadasList, salidasList), 3)\n",
        "    tiemposOA1.append(tiempoOcupado) \n",
        "    print(f'Servidor {i} estuvo ocupado {tiempoOcupado} segundos')\n",
        "  except:\n",
        "    print(f'Servidor {i} estuvo ocupado 0 segundos')\n",
        "\n",
        "tiempoOcupadoA1 =  sum(tiemposOA1) / len(tiemposOA1)"
      ],
      "execution_count": 15,
      "outputs": [
        {
          "output_type": "stream",
          "text": [
            "Servidor 0 estuvo ocupado 2890.8 segundos\n",
            "Servidor 1 estuvo ocupado 2669.472 segundos\n",
            "Servidor 2 estuvo ocupado 2384.991 segundos\n",
            "Servidor 3 estuvo ocupado 2020.775 segundos\n",
            "Servidor 4 estuvo ocupado 1614.553 segundos\n",
            "Servidor 5 estuvo ocupado 1180.101 segundos\n",
            "Servidor 6 estuvo ocupado 792.282 segundos\n",
            "Servidor 7 estuvo ocupado 488.416 segundos\n",
            "Servidor 8 estuvo ocupado 263.143 segundos\n",
            "Servidor 9 estuvo ocupado 129.728 segundos\n"
          ],
          "name": "stdout"
        }
      ]
    },
    {
      "cell_type": "markdown",
      "metadata": {
        "id": "QEcNUFJ5q9s6"
      },
      "source": [
        "3. ¿Cuánto tiempo estuvo cada servidor desocupado (idle)?"
      ]
    },
    {
      "cell_type": "code",
      "metadata": {
        "id": "DaQa1_-iq9s7",
        "outputId": "2fd44abc-4579-471c-f2c4-5312ee15ae37",
        "colab": {
          "base_uri": "https://localhost:8080/",
          "height": 187
        }
      },
      "source": [
        "# Hacemos una sumatoria de la diferencia entre instantes cuando el servidor\n",
        "# terminó una solicitud y entró otra.\n",
        "tiemposDA1 = []\n",
        "for i in range(len(registroServers)):\n",
        "  try:\n",
        "    llegadasDict=registroServers[i]['llegadas']\n",
        "    salidasDict=registroServers[i]['salidas']\n",
        "    llegadasList=[]\n",
        "    salidasList=[]\n",
        "    for id in registroServers[i]['llegadas'].keys():\n",
        "      llegadasList.append(llegadasDict[id])\n",
        "      salidasList.append(salidasDict[id])\n",
        "    \n",
        "    tiempoDesocupado = round(abs(TiempoServidorIdle(llegadasList, salidasList)), 3)\n",
        "    tiemposDA1.append(tiempoDesocupado)\n",
        "    print(f'Servidor {i} estuvo desocupado {tiempoDesocupado} segundos')\n",
        "  except:\n",
        "    print(f'Servidor {i} estuvo desocupado todo el tiempo')\n",
        "\n",
        "tiempoDesocupadoA1 = sum(tiemposDA1) / len(tiemposDA1)"
      ],
      "execution_count": 16,
      "outputs": [
        {
          "output_type": "stream",
          "text": [
            "Servidor 0 estuvo desocupado 709.083 segundos\n",
            "Servidor 1 estuvo desocupado 931.051 segundos\n",
            "Servidor 2 estuvo desocupado 1215.038 segundos\n",
            "Servidor 3 estuvo desocupado 1578.98 segundos\n",
            "Servidor 4 estuvo desocupado 1985.085 segundos\n",
            "Servidor 5 estuvo desocupado 2419.272 segundos\n",
            "Servidor 6 estuvo desocupado 2807.008 segundos\n",
            "Servidor 7 estuvo desocupado 3108.537 segundos\n",
            "Servidor 8 estuvo desocupado 3328.568 segundos\n",
            "Servidor 9 estuvo desocupado 3456.766 segundos\n"
          ],
          "name": "stdout"
        }
      ]
    },
    {
      "cell_type": "markdown",
      "metadata": {
        "id": "F70RJ8R4q9s9"
      },
      "source": [
        "4. ¿Cuánto\ttiempo\ten\ttotal\testuvieron\tlas\tsolicitudes en\tcola?"
      ]
    },
    {
      "cell_type": "code",
      "metadata": {
        "id": "gyyG287kq9s9",
        "outputId": "30899345-cfb5-4162-d7b1-c588a1acade8",
        "colab": {
          "base_uri": "https://localhost:8080/",
          "height": 34
        }
      },
      "source": [
        "if (len(registroCola)>0):\n",
        "  llegadasCola=[]\n",
        "  salidasCola=[]\n",
        "  for i in registroCola.keys():\n",
        "    llegadasCola.append(registroCola[i][0])\n",
        "    idServidor=registroCola[i][1]\n",
        "    idProceso=i\n",
        "    salidasCola.append(registroServers[idServidor-1]['llegadas'][idProceso])\n",
        "  tiempoTotalColaA1 = round(TiempoEntreArreglos(llegadasCola, salidasCola), 3)\n",
        "  print(f'{tiempoTotalColaA1} segundos')\n",
        "else:\n",
        "  print('No hay cola')\n"
      ],
      "execution_count": 17,
      "outputs": [
        {
          "output_type": "stream",
          "text": [
            "20.842 segundos\n"
          ],
          "name": "stdout"
        }
      ]
    },
    {
      "cell_type": "markdown",
      "metadata": {
        "id": "Gp_pJVBWq9tA"
      },
      "source": [
        "5. En promedio ¿cuánto tiempo estuvo cada solicitud en cola?"
      ]
    },
    {
      "cell_type": "code",
      "metadata": {
        "id": "5016XiT7q9tA",
        "outputId": "d0353ec9-3f14-4dfc-f4a0-af67f75b1bca",
        "colab": {
          "base_uri": "https://localhost:8080/",
          "height": 34
        }
      },
      "source": [
        "idSolicitudes=[]\n",
        "for i in registroServers:\n",
        "  idSolicitudes+=i['llegadas'].keys()\n",
        "promedioCola = tiempoTotalColaA1/max(idSolicitudes)\n",
        "print(f'{promedioCola} segundos')"
      ],
      "execution_count": 18,
      "outputs": [
        {
          "output_type": "stream",
          "text": [
            "0.00014480449100964343 segundos\n"
          ],
          "name": "stdout"
        }
      ]
    },
    {
      "cell_type": "markdown",
      "metadata": {
        "id": "zmomHc-Bq9tC"
      },
      "source": [
        "6. En promedio, ¿cuántas solicitudes estuvieron en cola cada segundo?"
      ]
    },
    {
      "cell_type": "code",
      "metadata": {
        "id": "qkwzrXwRq9tD",
        "outputId": "98d99003-fbec-4cc0-f4fd-142ef7205324",
        "colab": {
          "base_uri": "https://localhost:8080/",
          "height": 34
        }
      },
      "source": [
        "instantesDeIngresoCola=[]\n",
        "for i in registroCola.values():\n",
        "  instantesDeIngresoCola.append(i[0])\n",
        "\n",
        "\n",
        "llegadasPorSegundo={}\n",
        "\n",
        "for i in range(int(max(instantesDeIngresoCola))+1):\n",
        "  llegadasPorSegundo[i]=0\n",
        "\n",
        "\n",
        "\n",
        "for i in instantesDeIngresoCola:\n",
        "  llegadasPorSegundo[int(i)]+=1\n",
        "\n",
        "\n",
        "suma=sum(llegadasPorSegundo.values())\n",
        "cantTotal=len(llegadasPorSegundo.values())\n",
        "\n",
        "promSolColaPorSegundoA1 = int(suma/cantTotal)\n",
        "print(f'En promedio, {promSolColaPorSegundoA1} solicitudes en cola cada segundo')\n"
      ],
      "execution_count": 19,
      "outputs": [
        {
          "output_type": "stream",
          "text": [
            "En promedio, 0 solicitudes en cola cada segundo\n"
          ],
          "name": "stdout"
        }
      ]
    },
    {
      "cell_type": "markdown",
      "metadata": {
        "id": "WkGoShCJq9tF"
      },
      "source": [
        "7. ¿Cuál es el momento de la salida de la última solicitud?"
      ]
    },
    {
      "cell_type": "code",
      "metadata": {
        "id": "7jHTFoJkq9tG",
        "outputId": "133c2f5a-d85a-4eef-9c43-2e396d6f70b0",
        "colab": {
          "base_uri": "https://localhost:8080/",
          "height": 34
        }
      },
      "source": [
        "tiempoCorridaA1 = ultimoInstante\n",
        "print(ultimoInstante)"
      ],
      "execution_count": 20,
      "outputs": [
        {
          "output_type": "stream",
          "text": [
            "3600.2614759833664\n"
          ],
          "name": "stdout"
        }
      ]
    },
    {
      "cell_type": "markdown",
      "metadata": {
        "id": "FVzIboAD8kYt"
      },
      "source": [
        "## Task 2"
      ]
    },
    {
      "cell_type": "code",
      "metadata": {
        "id": "KDbaM-Pe8lSU",
        "outputId": "caa3ee33-959a-4636-ff1f-c6c828c3e9c4",
        "colab": {
          "base_uri": "https://localhost:8080/",
          "height": 34
        }
      },
      "source": [
        "cantidadServers=10\n",
        "while True:\n",
        "  _, registroCola, _=simularServerParalelo(cantServers=cantidadServers,LambdaExponencial=10,LambdaPoisson=2400 / 60,T=3600)\n",
        "  if (len(registroCola)==0):\n",
        "    break\n",
        "  cantidadServers+=1\n",
        "print(f'{cantidadServers} servidores')"
      ],
      "execution_count": 21,
      "outputs": [
        {
          "output_type": "stream",
          "text": [
            "16 servidores\n"
          ],
          "name": "stdout"
        }
      ]
    },
    {
      "cell_type": "markdown",
      "metadata": {
        "id": "GsCWziH_Z3Jd"
      },
      "source": [
        "## Task 3\n",
        "\n",
        "Repetimos el procedimiento anterior, pero con valores distintos y evaluamos las preguntas."
      ]
    },
    {
      "cell_type": "code",
      "metadata": {
        "id": "dGZdPleFZ55I"
      },
      "source": [
        "LambdaPoisson = 6000/60\n",
        "T = 3600"
      ],
      "execution_count": 22,
      "outputs": []
    },
    {
      "cell_type": "markdown",
      "metadata": {
        "id": "nONc2aicp6Tv"
      },
      "source": [
        "### Gorilla Megacomputing\n",
        "\n",
        "Nuevamente, realizamos otra simulación con los nuevos valores"
      ]
    },
    {
      "cell_type": "code",
      "metadata": {
        "id": "n6E45KjNp6Tw"
      },
      "source": [
        "registroServers, registroCola, ultimoInstante = simularServerParalelo(\n",
        "    cantServers=1,\n",
        "    LambdaExponencial=100,\n",
        "    LambdaPoisson=LambdaPoisson,\n",
        "    T=T\n",
        "  )"
      ],
      "execution_count": 23,
      "outputs": []
    },
    {
      "cell_type": "markdown",
      "metadata": {
        "id": "pb76HAOzp6T0"
      },
      "source": [
        "#### Análisis de resultados\n",
        "\n",
        "1. ¿Cuántas solicitudes atendió cada servidor?"
      ]
    },
    {
      "cell_type": "code",
      "metadata": {
        "id": "x0ywj88wp6T0",
        "outputId": "c6686665-4add-429b-89b1-1e34547a0670",
        "colab": {
          "base_uri": "https://localhost:8080/",
          "height": 34
        }
      },
      "source": [
        "# Se imprime el largo del arreglo de solicitudes que atendió el servidor\n",
        "solTotalesG2 = len(registroServers[0]['llegadas'])\n",
        "print(f'El Servidor atendio un total de {solTotalesG2} solicitudes')"
      ],
      "execution_count": 24,
      "outputs": [
        {
          "output_type": "stream",
          "text": [
            "El Servidor atendio un total de 359684 solicitudes\n"
          ],
          "name": "stdout"
        }
      ]
    },
    {
      "cell_type": "markdown",
      "metadata": {
        "id": "0PLJ0fgDp6T5"
      },
      "source": [
        "2. ¿Cuánto tiempo estuvo el servidor ocupado?"
      ]
    },
    {
      "cell_type": "code",
      "metadata": {
        "id": "oM086IjIp6T5",
        "outputId": "41b41c5e-ea8c-470b-a438-6e2a3a056216",
        "colab": {
          "base_uri": "https://localhost:8080/",
          "height": 34
        }
      },
      "source": [
        "# Obtenemos una sumatoria de las diferencias entre cada instante que el servidor\n",
        "# atendió y terminó una solicitud.\n",
        "\n",
        "llegadasDict=registroServers[0]['llegadas']\n",
        "salidasDict=registroServers[0]['salidas']\n",
        "llegadasList=[]\n",
        "salidasList=[]\n",
        "for id in registroServers[0]['llegadas'].keys():\n",
        "  llegadasList.append(llegadasDict[id])\n",
        "  salidasList.append(salidasDict[id])\n",
        "    \n",
        "tiempoOcupadoG2 = round(TiempoEntreArreglos(llegadasList, salidasList), 3)\n",
        "print(f'El Servidor estuvo ocupado {tiempoOcupadoG2} segundos')"
      ],
      "execution_count": 25,
      "outputs": [
        {
          "output_type": "stream",
          "text": [
            "El Servidor estuvo ocupado 3609.949 segundos\n"
          ],
          "name": "stdout"
        }
      ]
    },
    {
      "cell_type": "markdown",
      "metadata": {
        "id": "GofQgDQTp6T8"
      },
      "source": [
        "3. ¿Cuánto tiempo estuvo el servidor desocupado (idle)?"
      ]
    },
    {
      "cell_type": "code",
      "metadata": {
        "id": "-gTdyD4Cp6T9",
        "outputId": "0c7aceae-f915-4f41-8829-2a3862a1bfb6",
        "colab": {
          "base_uri": "https://localhost:8080/",
          "height": 34
        }
      },
      "source": [
        "# Hacemos una sumatoria de la diferencia entre instantes cuando el servidor\n",
        "# terminó una solicitud y entró otra.\n",
        "\n",
        "llegadasDict=registroServers[0]['llegadas']\n",
        "salidasDict=registroServers[0]['salidas']\n",
        "llegadasList=[]\n",
        "salidasList=[]\n",
        "for id in registroServers[0]['llegadas'].keys():\n",
        "  llegadasList.append(llegadasDict[id])\n",
        "  salidasList.append(salidasDict[id])\n",
        "\n",
        "tiempoDesocupadoG2 = round(abs(TiempoServidorIdle(llegadasList, salidasList)), 3)\n",
        "print(f'El Servidor estuvo desocupado {tiempoDesocupadoG2} segundos')\n"
      ],
      "execution_count": 26,
      "outputs": [
        {
          "output_type": "stream",
          "text": [
            "El Servidor estuvo desocupado 0.179 segundos\n"
          ],
          "name": "stdout"
        }
      ]
    },
    {
      "cell_type": "markdown",
      "metadata": {
        "id": "2OAX-MIlp6T_"
      },
      "source": [
        "4. ¿Cuánto\ttiempo\ten\ttotal\testuvieron\tlas\tsolicitudes en\tcola?"
      ]
    },
    {
      "cell_type": "code",
      "metadata": {
        "id": "CWZJxU87p6UA",
        "outputId": "41931776-7708-432f-ef02-94e3db647883",
        "colab": {
          "base_uri": "https://localhost:8080/",
          "height": 34
        }
      },
      "source": [
        "if (len(registroCola)>0):\n",
        "  llegadasCola=[]\n",
        "  salidasCola=[]\n",
        "  for i in registroCola.keys():\n",
        "    llegadasCola.append(registroCola[i][0])\n",
        "    idServidor=registroCola[i][1]\n",
        "    idProceso=i\n",
        "    salidasCola.append(registroServers[idServidor-1]['llegadas'][idProceso])\n",
        "  tiempoTotalCola = TiempoEntreArreglos(llegadasCola, salidasCola)\n",
        "  print(f'{round(tiempoTotalCola, 3)} segundos')\n",
        "else:\n",
        "  print('No hay cola')"
      ],
      "execution_count": 27,
      "outputs": [
        {
          "output_type": "stream",
          "text": [
            "2170751.825 segundos\n"
          ],
          "name": "stdout"
        }
      ]
    },
    {
      "cell_type": "markdown",
      "metadata": {
        "id": "rqsvF6-Up6UC"
      },
      "source": [
        "5. En promedio ¿cuánto tiempo estuvo cada solicitud en cola?"
      ]
    },
    {
      "cell_type": "code",
      "metadata": {
        "id": "C7cIv0J3p6UC",
        "outputId": "8ef283b2-ee0c-4957-ad84-dfd59880d98b",
        "colab": {
          "base_uri": "https://localhost:8080/",
          "height": 34
        }
      },
      "source": [
        "idSolicitudes=[]\n",
        "for i in registroServers:\n",
        "  idSolicitudes+=i['llegadas'].keys()\n",
        "\n",
        "promedioCola = tiempoTotalCola/max(idSolicitudes)\n",
        "print(f'{promedioCola} segundos')"
      ],
      "execution_count": 28,
      "outputs": [
        {
          "output_type": "stream",
          "text": [
            "6.0351637128495845 segundos\n"
          ],
          "name": "stdout"
        }
      ]
    },
    {
      "cell_type": "markdown",
      "metadata": {
        "id": "8V4bU4jfp6UF"
      },
      "source": [
        "6. En promedio, ¿cuántas solicitudes estuvieron en cola cada segundo?"
      ]
    },
    {
      "cell_type": "code",
      "metadata": {
        "id": "dM9PU5_Mp6UH",
        "outputId": "8c951cb3-6b18-4a11-aa3c-669fa4ad75a8",
        "colab": {
          "base_uri": "https://localhost:8080/",
          "height": 34
        }
      },
      "source": [
        "instantesDeIngresoCola=[]\n",
        "for i in registroCola.values():\n",
        "  instantesDeIngresoCola.append(i[0])\n",
        "\n",
        "\n",
        "llegadasPorSegundo={}\n",
        "\n",
        "for i in range(int(max(instantesDeIngresoCola))+1):\n",
        "  llegadasPorSegundo[i]=0\n",
        "\n",
        "\n",
        "\n",
        "for i in instantesDeIngresoCola:\n",
        "  llegadasPorSegundo[int(i)]+=1\n",
        "\n",
        "\n",
        "suma=sum(llegadasPorSegundo.values())\n",
        "cantTotal=len(llegadasPorSegundo.values())\n",
        "\n",
        "promSolColaPorSegundoG2 = int(suma/cantTotal)\n",
        "print(f'En promedio, {promSolColaPorSegundoG2} solicitudes en cola cada segundo')\n"
      ],
      "execution_count": 29,
      "outputs": [
        {
          "output_type": "stream",
          "text": [
            "En promedio, 99 solicitudes en cola cada segundo\n"
          ],
          "name": "stdout"
        }
      ]
    },
    {
      "cell_type": "markdown",
      "metadata": {
        "id": "FjAbNbM-p6UK"
      },
      "source": [
        "7. ¿Cuál es el momento de la salida de la última solicitud?"
      ]
    },
    {
      "cell_type": "code",
      "metadata": {
        "id": "pHJSokIrp6UK",
        "outputId": "41fa9ceb-10da-421f-84e4-d8483adaeb9a",
        "colab": {
          "base_uri": "https://localhost:8080/",
          "height": 34
        }
      },
      "source": [
        "tiempoCorridaG2 = round(ultimoInstante, 3)\n",
        "print(round(ultimoInstante, 3))"
      ],
      "execution_count": 30,
      "outputs": [
        {
          "output_type": "stream",
          "text": [
            "3609.783\n"
          ],
          "name": "stdout"
        }
      ]
    },
    {
      "cell_type": "markdown",
      "metadata": {
        "id": "PpL-25Yte3gl"
      },
      "source": [
        "### Ant Smart Computing\n",
        "\n",
        "Nuevamente, realizamos otra simulación con los nuevos valores"
      ]
    },
    {
      "cell_type": "code",
      "metadata": {
        "id": "wTGUYUz9e6Pn"
      },
      "source": [
        "registroServers, registroCola, ultimoInstante = simularServerParalelo(\n",
        "    cantServers=10,\n",
        "    LambdaExponencial=10,\n",
        "    LambdaPoisson=LambdaPoisson,\n",
        "    T=T\n",
        "  )"
      ],
      "execution_count": 31,
      "outputs": []
    },
    {
      "cell_type": "markdown",
      "metadata": {
        "id": "IONEWG9NflwD"
      },
      "source": [
        "#### Análisis de resultados\n",
        "\n",
        "1. ¿Cuántas solicitudes atendió cada servidor?"
      ]
    },
    {
      "cell_type": "code",
      "metadata": {
        "id": "IDZQmd9mflwG",
        "outputId": "ccd1192b-e127-4112-8dd5-bfb7badcf9bc",
        "colab": {
          "base_uri": "https://localhost:8080/",
          "height": 221
        }
      },
      "source": [
        "# Se imprime el largo del arreglo de solicitudes que atendió el servidor\n",
        "totales = []\n",
        "for i in range(len(registroServers)):\n",
        "  total=len(registroServers[i]['llegadas'])\n",
        "  totales.append(total)\n",
        "  print(f'Servidor {i} atendio un total de {total} solicitudes')\n",
        "\n",
        "solTotalesA2 = sum(totales)\n",
        "print(f'\\nSe atendieron {solTotalesA2} solicitudes en total')"
      ],
      "execution_count": 32,
      "outputs": [
        {
          "output_type": "stream",
          "text": [
            "Servidor 0 atendio un total de 36133 solicitudes\n",
            "Servidor 1 atendio un total de 35830 solicitudes\n",
            "Servidor 2 atendio un total de 35941 solicitudes\n",
            "Servidor 3 atendio un total de 35817 solicitudes\n",
            "Servidor 4 atendio un total de 35929 solicitudes\n",
            "Servidor 5 atendio un total de 36201 solicitudes\n",
            "Servidor 6 atendio un total de 35834 solicitudes\n",
            "Servidor 7 atendio un total de 35802 solicitudes\n",
            "Servidor 8 atendio un total de 36074 solicitudes\n",
            "Servidor 9 atendio un total de 35723 solicitudes\n",
            "\n",
            "Se atendieron 359284 solicitudes en total\n"
          ],
          "name": "stdout"
        }
      ]
    },
    {
      "cell_type": "markdown",
      "metadata": {
        "id": "YWHMVdKeflwK"
      },
      "source": [
        "2. ¿Cuánto tiempo estuvo el servidor ocupado?"
      ]
    },
    {
      "cell_type": "code",
      "metadata": {
        "id": "tdiz0QeZflwL",
        "outputId": "fb48de82-c8cc-4f21-a6b9-f4f2807b0678",
        "colab": {
          "base_uri": "https://localhost:8080/",
          "height": 187
        }
      },
      "source": [
        "# Obtenemos una sumatoria de las diferencias entre cada instante que el servidor\n",
        "# atendió y terminó una solicitud.\n",
        "tiemposOA2 = []\n",
        "for i in range(len(registroServers)):\n",
        "  try:\n",
        "    llegadasDict=registroServers[i]['llegadas']\n",
        "    salidasDict=registroServers[i]['salidas']\n",
        "    llegadasList=[]\n",
        "    salidasList=[]\n",
        "    for id in registroServers[i]['llegadas'].keys():\n",
        "      llegadasList.append(llegadasDict[id])\n",
        "      salidasList.append(salidasDict[id])\n",
        "    \n",
        "    tiempoOcupado = round(TiempoEntreArreglos(llegadasList, salidasList),3)\n",
        "    tiemposOA2.append(tiempoOcupado)\n",
        "    print(f'Servidor {i} estuvo ocupado {tiempoOcupado} segundos')\n",
        "  except:\n",
        "    print(f'Servidor {i} estuvo ocupado 0 segundos')\n",
        "\n",
        "tiempoOcupadoA2 = sum(tiemposOA2) / len(tiemposOA2)"
      ],
      "execution_count": 33,
      "outputs": [
        {
          "output_type": "stream",
          "text": [
            "Servidor 0 estuvo ocupado 3604.328 segundos\n",
            "Servidor 1 estuvo ocupado 3604.292 segundos\n",
            "Servidor 2 estuvo ocupado 3604.55 segundos\n",
            "Servidor 3 estuvo ocupado 3604.028 segundos\n",
            "Servidor 4 estuvo ocupado 3604.131 segundos\n",
            "Servidor 5 estuvo ocupado 3603.548 segundos\n",
            "Servidor 6 estuvo ocupado 3602.756 segundos\n",
            "Servidor 7 estuvo ocupado 3602.13 segundos\n",
            "Servidor 8 estuvo ocupado 3600.811 segundos\n",
            "Servidor 9 estuvo ocupado 3600.932 segundos\n"
          ],
          "name": "stdout"
        }
      ]
    },
    {
      "cell_type": "markdown",
      "metadata": {
        "id": "Ik1yibL7flwN"
      },
      "source": [
        "3. ¿Cuánto tiempo estuvo el servidor desocupado (idle)?"
      ]
    },
    {
      "cell_type": "code",
      "metadata": {
        "id": "72IJQ2pLflwO",
        "outputId": "8845717b-205e-46ec-b988-d1c9565cd035",
        "colab": {
          "base_uri": "https://localhost:8080/",
          "height": 187
        }
      },
      "source": [
        "# Hacemos una sumatoria de la diferencia entre instantes cuando el servidor\n",
        "# terminó una solicitud y entró otra.\n",
        "tiemposDA2 = []\n",
        "for i in range(len(registroServers)):\n",
        "  try:\n",
        "    llegadasDict=registroServers[i]['llegadas']\n",
        "    salidasDict=registroServers[i]['salidas']\n",
        "    llegadasList=[]\n",
        "    salidasList=[]\n",
        "    for id in registroServers[i]['llegadas'].keys():\n",
        "      llegadasList.append(llegadasDict[id])\n",
        "      salidasList.append(salidasDict[id])\n",
        "    \n",
        "    tiempoOcupado = round(abs(TiempoServidorIdle(llegadasList, salidasList)), 3)\n",
        "    tiemposDA2.append(tiempoOcupado)\n",
        "    print(f'Servidor {i} estuvo desocupado {tiempoOcupado} segundos')\n",
        "  except:\n",
        "    print(f'Servidor {i} estuvo desocupado todo el tiempo')\n",
        "\n",
        "tiempoDesocupadoA2 = sum(tiemposDA2) / len(tiemposDA2)"
      ],
      "execution_count": 34,
      "outputs": [
        {
          "output_type": "stream",
          "text": [
            "Servidor 0 estuvo desocupado 1.914 segundos\n",
            "Servidor 1 estuvo desocupado 1.388 segundos\n",
            "Servidor 2 estuvo desocupado 2.122 segundos\n",
            "Servidor 3 estuvo desocupado 1.463 segundos\n",
            "Servidor 4 estuvo desocupado 1.882 segundos\n",
            "Servidor 5 estuvo desocupado 1.03 segundos\n",
            "Servidor 6 estuvo desocupado 0.614 segundos\n",
            "Servidor 7 estuvo desocupado 0.032 segundos\n",
            "Servidor 8 estuvo desocupado 1.379 segundos\n",
            "Servidor 9 estuvo desocupado 1.149 segundos\n"
          ],
          "name": "stdout"
        }
      ]
    },
    {
      "cell_type": "markdown",
      "metadata": {
        "id": "vUAdSzuBflwQ"
      },
      "source": [
        "4. ¿Cuánto\ttiempo\ten\ttotal\testuvieron\tlas\tsolicitudes en\tcola?"
      ]
    },
    {
      "cell_type": "code",
      "metadata": {
        "id": "7gRC8AlwflwQ",
        "outputId": "1d7cf1cf-6558-4422-f8f0-a29352a72cd1",
        "colab": {
          "base_uri": "https://localhost:8080/",
          "height": 34
        }
      },
      "source": [
        "if (len(registroCola)>0):\n",
        "  llegadasCola=[]\n",
        "  salidasCola=[]\n",
        "  for i in registroCola.keys():\n",
        "    llegadasCola.append(registroCola[i][0])\n",
        "    idServidor=registroCola[i][1]\n",
        "    idProceso=i\n",
        "    salidasCola.append(registroServers[idServidor-1]['llegadas'][idProceso])\n",
        "  tiempoTotalCola = TiempoEntreArreglos(llegadasCola, salidasCola)\n",
        "  print(f'{round(tiempoTotalCola, 3)} segundos')\n",
        "else:\n",
        "  print('No hay cola')"
      ],
      "execution_count": 35,
      "outputs": [
        {
          "output_type": "stream",
          "text": [
            "1450781.665 segundos\n"
          ],
          "name": "stdout"
        }
      ]
    },
    {
      "cell_type": "markdown",
      "metadata": {
        "id": "LdM_EuZMflwS"
      },
      "source": [
        "5. En promedio ¿cuánto tiempo estuvo cada solicitud en cola?"
      ]
    },
    {
      "cell_type": "code",
      "metadata": {
        "id": "war9bTv1flwS",
        "outputId": "b591c6b0-2e59-405e-e153-dd27a04dfd30",
        "colab": {
          "base_uri": "https://localhost:8080/",
          "height": 34
        }
      },
      "source": [
        "idSolicitudes=[]\n",
        "for i in registroServers:\n",
        "  idSolicitudes+=i['llegadas'].keys()\n",
        "promedioCola = tiempoTotalCola/max(idSolicitudes)\n",
        "print(f'{promedioCola} segundos')"
      ],
      "execution_count": 36,
      "outputs": [
        {
          "output_type": "stream",
          "text": [
            "4.037980162374793 segundos\n"
          ],
          "name": "stdout"
        }
      ]
    },
    {
      "cell_type": "markdown",
      "metadata": {
        "id": "2BzJMWWDflwU"
      },
      "source": [
        "6. En promedio, ¿cuántas solicitudes estuvieron en cola cada segundo?"
      ]
    },
    {
      "cell_type": "code",
      "metadata": {
        "id": "Y3yqNZ9MflwV",
        "outputId": "a2c52ee1-9e33-43e6-b401-dca47ab300c0",
        "colab": {
          "base_uri": "https://localhost:8080/",
          "height": 34
        }
      },
      "source": [
        "instantesDeIngresoCola=[]\n",
        "for i in registroCola.values():\n",
        "  instantesDeIngresoCola.append(i[0])\n",
        "\n",
        "\n",
        "llegadasPorSegundo={}\n",
        "\n",
        "for i in range(int(max(instantesDeIngresoCola))+1):\n",
        "  llegadasPorSegundo[i]=0\n",
        "\n",
        "\n",
        "\n",
        "for i in instantesDeIngresoCola:\n",
        "  llegadasPorSegundo[int(i)]+=1\n",
        "\n",
        "\n",
        "suma=sum(llegadasPorSegundo.values())\n",
        "cantTotal=len(llegadasPorSegundo.values())\n",
        "promSolColaPorSegundoA2 = int(suma/cantTotal)\n",
        "print(f'En promedio, {promSolColaPorSegundoA2} solicitudes en cola cada segundo')\n"
      ],
      "execution_count": 37,
      "outputs": [
        {
          "output_type": "stream",
          "text": [
            "En promedio, 99 solicitudes en cola cada segundo\n"
          ],
          "name": "stdout"
        }
      ]
    },
    {
      "cell_type": "markdown",
      "metadata": {
        "id": "bRxAjzl_flwX"
      },
      "source": [
        "7. ¿Cuál es el momento de la salida de la última solicitud?"
      ]
    },
    {
      "cell_type": "code",
      "metadata": {
        "id": "FUEsWLSOflwX",
        "outputId": "85391e76-5cc8-4427-b910-7a1028be0156",
        "colab": {
          "base_uri": "https://localhost:8080/",
          "height": 34
        }
      },
      "source": [
        "tiempoCorridaA2 = round(ultimoInstante, 3)\n",
        "print(ultimoInstante)"
      ],
      "execution_count": 38,
      "outputs": [
        {
          "output_type": "stream",
          "text": [
            "3602.556048638142\n"
          ],
          "name": "stdout"
        }
      ]
    },
    {
      "cell_type": "markdown",
      "metadata": {
        "id": "Y5Q9frwBsrCF"
      },
      "source": [
        "## Task 4"
      ]
    },
    {
      "cell_type": "code",
      "metadata": {
        "id": "gw1C9JjusrCG"
      },
      "source": [
        "cantidadServers=10\n",
        "while True:\n",
        "  _, registroCola, _=simularServerParalelo(cantServers=cantidadServers,LambdaExponencial=10,LambdaPoisson=6000/60,T=3600)\n",
        "  if (len(registroCola)==0):\n",
        "    break\n",
        "  cantidadServers+=1\n",
        "print(f'{cantidadServers} Servidores')"
      ],
      "execution_count": null,
      "outputs": []
    },
    {
      "cell_type": "markdown",
      "metadata": {
        "id": "ka23VPg2hEmV"
      },
      "source": [
        "## Task 5\n",
        "\n",
        "Para conocer el rendimiento de los proveedores, se realizará una serie de gráficos resumiendo algunos datos de las simulaciones."
      ]
    },
    {
      "cell_type": "markdown",
      "metadata": {
        "id": "6ofN7fuY7vb5"
      },
      "source": [
        "### **Simulación 1:** 2400 solicitudes por minuto, simulado 1 hora"
      ]
    },
    {
      "cell_type": "markdown",
      "metadata": {
        "id": "FCBm_zMe44_x"
      },
      "source": [
        "#### Total de solicitudes procesadas"
      ]
    },
    {
      "cell_type": "code",
      "metadata": {
        "id": "XOUhWkRn44oK"
      },
      "source": [
        "fig = plt.figure()\n",
        "ax = fig.add_axes([0,0,1,1])\n",
        "proveedores = ['Gorilla Megacomputing', 'Ant Smart Computing']\n",
        "totales = [solTotalesG1, solTotalesA1]\n",
        "ax.bar(proveedores, totales)\n",
        "for index,data in enumerate(totales):\n",
        "    plt.text(x=index , y =data+1 , s=f\"{data}\" , fontdict=dict(fontsize=20))\n",
        "plt.show()"
      ],
      "execution_count": null,
      "outputs": []
    },
    {
      "cell_type": "markdown",
      "metadata": {
        "id": "AAZtf4MV3L19"
      },
      "source": [
        "#### Tiempos de utilización\n"
      ]
    },
    {
      "cell_type": "markdown",
      "metadata": {
        "id": "HvVBT5m-78pr"
      },
      "source": [
        "##### Gorilla Megacomputing\n"
      ]
    },
    {
      "cell_type": "code",
      "metadata": {
        "id": "LqpJBwzO1wk9"
      },
      "source": [
        "porcentajeOcupado = (tiempoOcupadoG1*100)/tiempoCorridaG1\n",
        "porcentajeDesocupado = (tiempoDesocupadoG1*100)/tiempoCorridaG1\n",
        "\n",
        "labels = 'Tiempo ocupado', 'Tiempo desocupado'\n",
        "sizes = [porcentajeOcupado, porcentajeDesocupado]\n",
        "colors = ['lightcoral', 'lightskyblue']\n",
        "\n",
        "plt.pie(sizes, labels=labels, colors=colors,\n",
        "        autopct='%1.1f%%', shadow=True, startangle=140)\n",
        "\n",
        "plt.axis('equal')\n",
        "plt.title('Porcentaje de tiempo utilizado del servidor Gorilla Megacomputing')\n",
        "plt.show()"
      ],
      "execution_count": null,
      "outputs": []
    },
    {
      "cell_type": "markdown",
      "metadata": {
        "id": "XjlMfwqg72fy"
      },
      "source": [
        "##### Ant Smart Computing\n",
        "\n",
        "Primero, obtendremos el promedio de tiempos por cada servidor de este proveedor."
      ]
    },
    {
      "cell_type": "code",
      "metadata": {
        "id": "ztlRdE_v1nZP"
      },
      "source": [
        "porcentajeOcupado = (tiempoOcupadoA1*100)/tiempoCorridaA1\n",
        "porcentajeDesocupado = (tiempoDesocupadoA1*100)/tiempoCorridaA1\n",
        "\n",
        "labels = 'Tiempo ocupado', 'Tiempo desocupado'\n",
        "sizes = [porcentajeOcupado, porcentajeDesocupado]\n",
        "colors = ['lightcoral', 'lightskyblue']\n",
        "\n",
        "plt.pie(sizes, labels=labels, colors=colors,\n",
        "        autopct='%1.1f%%', shadow=True, startangle=140)\n",
        "\n",
        "plt.axis('equal')\n",
        "plt.title('Promedio de porcentaje de tiempo utilizado de los servidores Ant Smart Computing')\n",
        "plt.show()"
      ],
      "execution_count": null,
      "outputs": []
    },
    {
      "cell_type": "markdown",
      "metadata": {
        "id": "LxAY9Mf7GN8o"
      },
      "source": [
        "Ahora, para un mejor contexto, visualizaremos qué tanto tiempo estuvo ocupado cada servidor individual."
      ]
    },
    {
      "cell_type": "code",
      "metadata": {
        "id": "dQ1duVQjGYzr"
      },
      "source": [
        "plt.bar(['1','2','3','4','5','6','7','8','9','10'], height=tiemposOA1, width=0.4)\n",
        "plt.title('Tiempo total ocupado de cada servidor de Ant Smart Computing')\n",
        "plt.show()"
      ],
      "execution_count": null,
      "outputs": []
    },
    {
      "cell_type": "markdown",
      "metadata": {
        "id": "J5cXyrW09O6m"
      },
      "source": [
        "#### Promedio de solicitudes en cola por segundo"
      ]
    },
    {
      "cell_type": "code",
      "metadata": {
        "id": "FVPts4Y69O6n"
      },
      "source": [
        "values = [promSolColaPorSegundoG1, promSolColaPorSegundoA1]\n",
        "\n",
        "for index,data in enumerate(values):\n",
        "    plt.text(x=index , y =data+1 , s=f\"{data}\" , fontdict=dict(fontsize=10))\n",
        "\n",
        "plt.bar(proveedores, height=values, color=colors)\n",
        "plt.show()"
      ],
      "execution_count": null,
      "outputs": []
    },
    {
      "cell_type": "markdown",
      "metadata": {
        "id": "c8vIpAT4-xYT"
      },
      "source": [
        "#### Utilización del procesador"
      ]
    },
    {
      "cell_type": "code",
      "metadata": {
        "id": "r1QAywLE-xYV"
      },
      "source": [
        "procesadorG1 = round((tiempoOcupadoG1*100)/tiempoCorridaG1, 2)\n",
        "procesadorA1 = round((tiempoOcupadoA1*100)/tiempoCorridaA1, 2)\n",
        "values = [procesadorG1, procesadorA1]\n",
        "\n",
        "for index,data in enumerate(values):\n",
        "    plt.text(x=index , y =data+1 , s=f\"{data}%\" , fontdict=dict(fontsize=10))\n",
        "\n",
        "plt.bar(proveedores, height=values, color=colors, width=0.4)\n",
        "plt.title('Porcentaje del procesador utilizado')\n",
        "plt.show()"
      ],
      "execution_count": null,
      "outputs": []
    },
    {
      "cell_type": "markdown",
      "metadata": {
        "id": "UHYDYb8EAwhh"
      },
      "source": [
        "#### Observaciones simulación 1\n",
        "\n",
        "Para esta primera simulación, tenemos resultados muy favorables para Ant Smart Computing. A pesar de haber resuelto una cantidad de solicitudes muy parecida, Ant Smart Computing posee un promedio de solicitudes en cola por segundo nulo, es decir, siempre está ocupado procesando y el promedio de solicitudes en cola es 0. Es por ello también que el tiempo promedio ocupado es muy parecido al de Gorilla Megacomputing, sin embargo, este resultado es el *promedio* de lo tiempos de los servidores. Si observamos los resultados de cada servidor individual, nos damos cuenta que hay muchos servidores que están ocupados por muy poco tiempo, indicando así que Ant Smart Computing puede procesar aún más solicitudes en paralelo.\n",
        "\n",
        "\n",
        "En cuanto a porcentaje del procesador utilizado, ambos parecen tener el mismo rendimiento. No obstante, hay que tener en mente que el tiempo valuado de esta gráfica para Ant Smart Computing es el promedio de todos sus servidores."
      ]
    },
    {
      "cell_type": "markdown",
      "metadata": {
        "id": "4o_MIKxBJkv4"
      },
      "source": [
        "### **Simulación 2:** 6000 solicitudes por minuto, simulado 1 hora"
      ]
    },
    {
      "cell_type": "markdown",
      "metadata": {
        "id": "KdZURRfpJkv5"
      },
      "source": [
        "#### Total de solicitudes procesadas"
      ]
    },
    {
      "cell_type": "code",
      "metadata": {
        "id": "Vq2l23x3Jkv7"
      },
      "source": [
        "fig = plt.figure()\n",
        "ax = fig.add_axes([0,0,1,1])\n",
        "proveedores = ['Gorilla Megacomputing', 'Ant Smart Computing']\n",
        "totales = [solTotalesG2, solTotalesA2]\n",
        "ax.bar(proveedores, totales)\n",
        "for index,data in enumerate(totales):\n",
        "    plt.text(x=index , y =data+1 , s=f\"{data}\" , fontdict=dict(fontsize=20))\n",
        "plt.show()"
      ],
      "execution_count": null,
      "outputs": []
    },
    {
      "cell_type": "markdown",
      "metadata": {
        "id": "0LovX-25Jkv-"
      },
      "source": [
        "#### Tiempos de utilización\n"
      ]
    },
    {
      "cell_type": "markdown",
      "metadata": {
        "id": "labb2n_WJkv-"
      },
      "source": [
        "##### Gorilla Megacomputing\n"
      ]
    },
    {
      "cell_type": "code",
      "metadata": {
        "id": "iP1HgZpHJkv_"
      },
      "source": [
        "porcentajeOcupado = (tiempoOcupadoG2*100)/tiempoCorridaG2\n",
        "porcentajeDesocupado = (tiempoDesocupadoG2*100)/tiempoCorridaG2\n",
        "\n",
        "labels = 'Tiempo ocupado', 'Tiempo desocupado'\n",
        "sizes = [porcentajeOcupado, porcentajeDesocupado]\n",
        "colors = ['lightcoral', 'lightskyblue']\n",
        "\n",
        "plt.pie(sizes, labels=labels, colors=colors,\n",
        "        autopct='%1.1f%%', shadow=True, startangle=140)\n",
        "\n",
        "plt.axis('equal')\n",
        "plt.title('Porcentaje de tiempo utilizado del servidor Gorilla Megacomputing')\n",
        "plt.show()"
      ],
      "execution_count": null,
      "outputs": []
    },
    {
      "cell_type": "markdown",
      "metadata": {
        "id": "dWokyMevJkwC"
      },
      "source": [
        "##### Ant Smart Computing\n",
        "\n",
        "Primero, obtendremos el promedio de tiempos por cada servidor de este proveedor."
      ]
    },
    {
      "cell_type": "code",
      "metadata": {
        "id": "2Mhl8xI3JkwC"
      },
      "source": [
        "porcentajeOcupado = (tiempoOcupadoA2*100)/tiempoCorridaA2\n",
        "porcentajeDesocupado = (tiempoDesocupadoA2*100)/tiempoCorridaA2\n",
        "\n",
        "labels = 'Tiempo ocupado', 'Tiempo desocupado'\n",
        "sizes = [porcentajeOcupado, porcentajeDesocupado]\n",
        "colors = ['lightcoral', 'lightskyblue']\n",
        "\n",
        "plt.pie(sizes, labels=labels, colors=colors,\n",
        "        autopct='%1.1f%%', shadow=True, startangle=140)\n",
        "\n",
        "plt.axis('equal')\n",
        "plt.title('Promedio de porcentaje de tiempo utilizado de los servidores Ant Smart Computing')\n",
        "plt.show()"
      ],
      "execution_count": null,
      "outputs": []
    },
    {
      "cell_type": "markdown",
      "metadata": {
        "id": "eOKMT0RUJkwF"
      },
      "source": [
        "Ahora, para un mejor contexto, visualizaremos qué tanto tiempo estuvo ocupado cada servidor individual."
      ]
    },
    {
      "cell_type": "code",
      "metadata": {
        "id": "16osZ1ktJkwG"
      },
      "source": [
        "plt.bar(['1','2','3','4','5','6','7','8','9','10'], height=tiemposOA2, width=0.4)\n",
        "plt.title('Tiempo total ocupado de cada servidor de Ant Smart Computing')\n",
        "plt.show()"
      ],
      "execution_count": null,
      "outputs": []
    },
    {
      "cell_type": "markdown",
      "metadata": {
        "id": "MvtwI13KJkwL"
      },
      "source": [
        "#### Promedio de solicitudes en cola por segundo"
      ]
    },
    {
      "cell_type": "code",
      "metadata": {
        "id": "gERKVR79JkwL"
      },
      "source": [
        "values = [promSolColaPorSegundoG2, promSolColaPorSegundoA2]\n",
        "\n",
        "for index,data in enumerate(values):\n",
        "    plt.text(x=index , y =data+1 , s=f\"{data}\" , fontdict=dict(fontsize=10))\n",
        "\n",
        "plt.bar(proveedores, height=values, color=colors)\n",
        "plt.show()"
      ],
      "execution_count": null,
      "outputs": []
    },
    {
      "cell_type": "markdown",
      "metadata": {
        "id": "ZJ51_BbMJkwM"
      },
      "source": [
        "#### Utilización del procesador"
      ]
    },
    {
      "cell_type": "code",
      "metadata": {
        "id": "Ypa_DjZdJkwN"
      },
      "source": [
        "procesadorG2 = round((tiempoOcupadoG2*100)/tiempoCorridaG2, 2)\n",
        "procesadorA2 = round((tiempoOcupadoA2*100)/tiempoCorridaA2, 2)\n",
        "values = [procesadorG1, procesadorA1]\n",
        "\n",
        "for index,data in enumerate(values):\n",
        "    plt.text(x=index , y =data+1 , s=f\"{data}%\" , fontdict=dict(fontsize=10))\n",
        "\n",
        "plt.bar(proveedores, height=values, color=colors, width=0.4)\n",
        "plt.title('Porcentaje del procesador utilizado')\n",
        "plt.show()"
      ],
      "execution_count": null,
      "outputs": []
    },
    {
      "cell_type": "markdown",
      "metadata": {
        "id": "Y7wVxZ3XJkwP"
      },
      "source": [
        "#### Recomendación a junta directiva:\n",
        "\n",
        "Podemos notarque el tiempo promedio de solicitudes en cola por segundo es menor para el caso de Ant Smart Computing. Esto significa que las solicitudes esperan menos tiempo usando estos servidores.\n",
        "\n",
        "\n",
        "En el caso de la segunda simulación podemos observar que ambos servidores tienen un rendimiento muy similar, sin embargo, con los servidores Ant Smart Computing podríamos optar por contratar más servidores individualmente. En pocas palabras, con el paso del tiempo se espera a que la aplicación tenga mayor número de visitas, el servidor de Gorilla Megacomputing se quedaría corto para tantas solicitudes, mientras que Ant Smart Computing si podría seguir aumentando su rendimiento contratando más servidores, por lo que podríamos seguir escalando nuestro negocio al paso que nosotros queramosy por ello nuestra recomendación es que **el mejor proveedor es Ant Smart Computing.**"
      ]
    },
    {
      "cell_type": "code",
      "metadata": {
        "id": "HiBVZSJfNv_W"
      },
      "source": [
        ""
      ],
      "execution_count": null,
      "outputs": []
    }
  ]
}